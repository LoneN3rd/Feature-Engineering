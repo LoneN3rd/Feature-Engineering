{
  "nbformat": 4,
  "nbformat_minor": 0,
  "metadata": {
    "colab": {
      "name": "[Project] Feature Engineering with Python",
      "provenance": [],
      "toc_visible": true,
      "collapsed_sections": [],
      "authorship_tag": "ABX9TyPpnUT4Bz7oP41p6aVH0wld"
    },
    "kernelspec": {
      "name": "python3",
      "display_name": "Python 3"
    },
    "language_info": {
      "name": "python"
    }
  },
  "cells": [
    {
      "cell_type": "markdown",
      "source": [
        "## Defining the Research Question"
      ],
      "metadata": {
        "id": "jph-peR3hXL_"
      }
    },
    {
      "cell_type": "markdown",
      "source": [
        "### Background\n",
        "\n",
        "Logistics in Sub-Saharan Africa increases the cost of manufactured goods by up to 320%; while in Europe, it only accounts for up to 90% of the manufacturing cost. Sendy is a business-to-business platform established in 2014, to enable businesses of all types and sizes to transport goods more efficiently across East Africa. The company is headquartered in Kenya with a team of more than 100 staff, focused on building practical solutions for Africa’s dynamic transportation needs, from developing apps and web\n",
        "solutions to providing dedicated support for goods on the move.\n",
        "\n"
      ],
      "metadata": {
        "id": "KvKOPyRCs1WV"
      }
    },
    {
      "cell_type": "markdown",
      "source": [
        "### Problem Statement\n",
        "\n",
        "Sendy has hired you to help predict the estimated time of delivery of orders, from the point of driver pickup to the point of arrival at the final destination. Build a model that predicts an accurate delivery time, from picking up a package arriving at the final destination. An accurate arrival time prediction will help all business to improve their logistics and communicate the accurate time their time to their customers. You will be\n",
        "required to perform various feature engineering techniques while preparing your data for further analysis.\n"
      ],
      "metadata": {
        "id": "ctLIK6nhhqsv"
      }
    },
    {
      "cell_type": "markdown",
      "source": [
        "### Metric of Success\n",
        "\n",
        "A model that will accurately predict the estimated time of delivery of orders, with an RMSE that is less than 10% of the target mean."
      ],
      "metadata": {
        "id": "a4bbT5_bj3Dr"
      }
    },
    {
      "cell_type": "markdown",
      "source": [
        "### Dataset Information\n",
        "\n",
        "The dataset provided by Sendy includes order details and rider metrics based on orders made on the Sendy platform. The challenge is to predict the estimated time of arrival for orders- from pick-up to drop-off. The dataset provided here is a subset of over 20,000\n",
        "orders and only includes direct orders (i.e. Sendy “express” orders) with bikes in Nairobi.\n",
        "All data in this subset have been fully anonymized while preserving the distribution.\n",
        "\n",
        "Dataset URL = https://bit.ly/3deaKEM\n",
        "\n",
        "Dataset Glossary = https://bit.ly/30O3xsr\n",
        "\n",
        "Project Source: https://bit.ly/2Y6Hzz3"
      ],
      "metadata": {
        "id": "jLKQaU3mjlBV"
      }
    },
    {
      "cell_type": "markdown",
      "source": [
        "### Solution Steps\n",
        "\n",
        "* Import Libraries\n",
        "* Load, Explore & Clean Data\n",
        "* Model base regressor and evaluate\n",
        "* Model Improvement\n",
        "* Summary of findings and Recommendations\n",
        "* Challenge the Solution"
      ],
      "metadata": {
        "id": "fy9iMfJLj50b"
      }
    },
    {
      "cell_type": "markdown",
      "source": [
        "## Import Libraries"
      ],
      "metadata": {
        "id": "usWDkdtA4Jk1"
      }
    },
    {
      "cell_type": "code",
      "source": [
        "import pandas as pd\n",
        "import numpy as np\n",
        "import matplotlib.pyplot as plt\n",
        "from sklearn.preprocessing import MinMaxScaler, StandardScaler, OneHotEncoder\n",
        "from sklearn.model_selection import train_test_split\n",
        "from sklearn.svm import SVR\n",
        "from sklearn.ensemble import RandomForestRegressor\n",
        "from sklearn.ensemble import AdaBoostRegressor\n",
        "from sklearn.ensemble import GradientBoostingRegressor\n",
        "from sklearn.metrics import mean_squared_error\n",
        "pd.set_option('display.max_columns', None)"
      ],
      "metadata": {
        "id": "fqYo-YWf4sci"
      },
      "execution_count": null,
      "outputs": []
    },
    {
      "cell_type": "code",
      "source": [
        "# We'll import and install the following packages: six, sys, mlrose and joblib\n",
        "# to use `SequentialFeatureSelector` for feature selection from mlxtend.\n",
        "\n",
        "# importing six and sys\n",
        "import six\n",
        "import sys\n",
        "sys.modules['sklearn.externals.six'] = six\n",
        "\n",
        "# installing mlrose\n",
        "!pip install mlrose\n",
        "import mlrose\n",
        "\n",
        "# importing joblib\n",
        "import joblib\n",
        "sys.modules['sklearn.externals.joblib'] = joblib"
      ],
      "metadata": {
        "colab": {
          "base_uri": "https://localhost:8080/"
        },
        "id": "hHaqHX7QQPuJ",
        "outputId": "5070b4da-07a4-464f-dd7e-b84616f7ba78"
      },
      "execution_count": null,
      "outputs": [
        {
          "output_type": "stream",
          "name": "stdout",
          "text": [
            "Looking in indexes: https://pypi.org/simple, https://us-python.pkg.dev/colab-wheels/public/simple/\n",
            "Requirement already satisfied: mlrose in /usr/local/lib/python3.7/dist-packages (1.3.0)\n",
            "Requirement already satisfied: numpy in /usr/local/lib/python3.7/dist-packages (from mlrose) (1.21.6)\n",
            "Requirement already satisfied: sklearn in /usr/local/lib/python3.7/dist-packages (from mlrose) (0.0)\n",
            "Requirement already satisfied: scipy in /usr/local/lib/python3.7/dist-packages (from mlrose) (1.7.3)\n",
            "Requirement already satisfied: scikit-learn in /usr/local/lib/python3.7/dist-packages (from sklearn->mlrose) (1.0.2)\n",
            "Requirement already satisfied: joblib>=0.11 in /usr/local/lib/python3.7/dist-packages (from scikit-learn->sklearn->mlrose) (1.1.0)\n",
            "Requirement already satisfied: threadpoolctl>=2.0.0 in /usr/local/lib/python3.7/dist-packages (from scikit-learn->sklearn->mlrose) (3.1.0)\n"
          ]
        }
      ]
    },
    {
      "cell_type": "code",
      "source": [
        "from mlxtend.feature_selection import SequentialFeatureSelector\n",
        "from sklearn.feature_selection import RFE\n",
        "from sklearn.decomposition import PCA\n",
        "from sklearn.discriminant_analysis import LinearDiscriminantAnalysis\n",
        "from sklearn.model_selection import GridSearchCV"
      ],
      "metadata": {
        "id": "Thjqkp8iUYlU"
      },
      "execution_count": null,
      "outputs": []
    },
    {
      "cell_type": "markdown",
      "source": [
        "## Load, Explore and Clean Data"
      ],
      "metadata": {
        "id": "rdw6njPq4QKF"
      }
    },
    {
      "cell_type": "code",
      "source": [
        "# load glossary\n",
        "glossary = pd.read_csv('https://bit.ly/30O3xsr')\n",
        "glossary"
      ],
      "metadata": {
        "colab": {
          "base_uri": "https://localhost:8080/",
          "height": 1000
        },
        "id": "hefS9fte4nz3",
        "outputId": "b567593a-c016-4330-ff89-eab48470120e"
      },
      "execution_count": null,
      "outputs": [
        {
          "output_type": "execute_result",
          "data": {
            "text/plain": [
              "                                     Order No  \\\n",
              "0                                     User Id   \n",
              "1                                Vehicle Type   \n",
              "2                               Platform Type   \n",
              "3                        Personal or Business   \n",
              "4                    Placement - Day of Month   \n",
              "5                Placement - Weekday (Mo = 1)   \n",
              "6                            Placement - Time   \n",
              "7                 Confirmation - Day of Month   \n",
              "8             Confirmation - Weekday (Mo = 1)   \n",
              "9                         Confirmation - Time   \n",
              "10           Arrival at Pickup - Day of Month   \n",
              "11       Arrival at Pickup - Weekday (Mo = 1)   \n",
              "12                   Arrival at Pickup - Time   \n",
              "13                      Pickup - Day of Month   \n",
              "14                  Pickup - Weekday (Mo = 1)   \n",
              "15                              Pickup - Time   \n",
              "16      Arrival at Destination - Day of Month   \n",
              "17  Arrival at Destination - Weekday (Mo = 1)   \n",
              "18              Arrival at Destination - Time   \n",
              "19                              Distance (KM)   \n",
              "20                                Temperature   \n",
              "21               Precipitation in millimeters   \n",
              "22                                 Pickup Lat   \n",
              "23                                Pickup Long   \n",
              "24                            Destination Lat   \n",
              "25                           Destination Long   \n",
              "26                                   Rider Id   \n",
              "27                Time from Pickup to Arrival   \n",
              "28                                        NaN   \n",
              "29                              Rider Metrics   \n",
              "30                                   Rider Id   \n",
              "31                               No_Of_Orders   \n",
              "32                                        Age   \n",
              "33                             Average_Rating   \n",
              "34                              No_of_Ratings   \n",
              "\n",
              "                  Unique number identifying the order  \n",
              "0   Unique number identifying the customer on a pl...  \n",
              "1   For this competition limited to bikes, however...  \n",
              "2   Platform used to place the order, there are 4 ...  \n",
              "3                                       Customer type  \n",
              "4                   Placement - Day of Month i.e 1-31  \n",
              "5                    Placement - Weekday (Monday = 1)  \n",
              "6   Placement - Time - Time of day the order was p...  \n",
              "7                Confirmation - Day of Month i.e 1-31  \n",
              "8                 Confirmation - Weekday (Monday = 1)  \n",
              "9   Confirmation - Time - Time of day the order wa...  \n",
              "10          Arrival at Pickup - Day of Month i.e 1-31  \n",
              "11           Arrival at Pickup - Weekday (Monday = 1)  \n",
              "12  Time of day the the rider arrived at the locat...  \n",
              "13                     Pickup - Day of Month i.e 1-31  \n",
              "14                      Pickup - Weekday (Monday = 1)  \n",
              "15  Pickup - Time - Time of day the the rider pick...  \n",
              "16        Arrival at Delivery - Day of Month i.e 1-31  \n",
              "17         Arrival at Delivery - Weekday (Monday = 1)  \n",
              "18  Arrival at Delivery Time - Time of day the rid...  \n",
              "19            The distance from Pickup to Destination  \n",
              "20  Temperature at the time of order placement in ...  \n",
              "21   Precipitation at the time of order placement ...  \n",
              "22                       Latitude of pick up location  \n",
              "23                      Longitude of pick up location  \n",
              "24                      Latitude of delivery location  \n",
              "25                     Longitude of delivery location  \n",
              "26             ID of the Rider who accepted the order  \n",
              "27  Time in seconds between 'Pickup' and 'Arrival ...  \n",
              "28                                                NaN  \n",
              "29                                                NaN  \n",
              "30  Unique number identifying the rider (same as i...  \n",
              "31           Number of Orders the rider has delivered  \n",
              "32  Number of days since the rider delivered the f...  \n",
              "33                        Average rating of the rider  \n",
              "34   Number of ratings the rider has received. Rat...  "
            ],
            "text/html": [
              "\n",
              "  <div id=\"df-fc11bc98-0113-445a-b7d1-82c404dadf70\">\n",
              "    <div class=\"colab-df-container\">\n",
              "      <div>\n",
              "<style scoped>\n",
              "    .dataframe tbody tr th:only-of-type {\n",
              "        vertical-align: middle;\n",
              "    }\n",
              "\n",
              "    .dataframe tbody tr th {\n",
              "        vertical-align: top;\n",
              "    }\n",
              "\n",
              "    .dataframe thead th {\n",
              "        text-align: right;\n",
              "    }\n",
              "</style>\n",
              "<table border=\"1\" class=\"dataframe\">\n",
              "  <thead>\n",
              "    <tr style=\"text-align: right;\">\n",
              "      <th></th>\n",
              "      <th>Order No</th>\n",
              "      <th>Unique number identifying the order</th>\n",
              "    </tr>\n",
              "  </thead>\n",
              "  <tbody>\n",
              "    <tr>\n",
              "      <th>0</th>\n",
              "      <td>User Id</td>\n",
              "      <td>Unique number identifying the customer on a pl...</td>\n",
              "    </tr>\n",
              "    <tr>\n",
              "      <th>1</th>\n",
              "      <td>Vehicle Type</td>\n",
              "      <td>For this competition limited to bikes, however...</td>\n",
              "    </tr>\n",
              "    <tr>\n",
              "      <th>2</th>\n",
              "      <td>Platform Type</td>\n",
              "      <td>Platform used to place the order, there are 4 ...</td>\n",
              "    </tr>\n",
              "    <tr>\n",
              "      <th>3</th>\n",
              "      <td>Personal or Business</td>\n",
              "      <td>Customer type</td>\n",
              "    </tr>\n",
              "    <tr>\n",
              "      <th>4</th>\n",
              "      <td>Placement - Day of Month</td>\n",
              "      <td>Placement - Day of Month i.e 1-31</td>\n",
              "    </tr>\n",
              "    <tr>\n",
              "      <th>5</th>\n",
              "      <td>Placement - Weekday (Mo = 1)</td>\n",
              "      <td>Placement - Weekday (Monday = 1)</td>\n",
              "    </tr>\n",
              "    <tr>\n",
              "      <th>6</th>\n",
              "      <td>Placement - Time</td>\n",
              "      <td>Placement - Time - Time of day the order was p...</td>\n",
              "    </tr>\n",
              "    <tr>\n",
              "      <th>7</th>\n",
              "      <td>Confirmation - Day of Month</td>\n",
              "      <td>Confirmation - Day of Month i.e 1-31</td>\n",
              "    </tr>\n",
              "    <tr>\n",
              "      <th>8</th>\n",
              "      <td>Confirmation - Weekday (Mo = 1)</td>\n",
              "      <td>Confirmation - Weekday (Monday = 1)</td>\n",
              "    </tr>\n",
              "    <tr>\n",
              "      <th>9</th>\n",
              "      <td>Confirmation - Time</td>\n",
              "      <td>Confirmation - Time - Time of day the order wa...</td>\n",
              "    </tr>\n",
              "    <tr>\n",
              "      <th>10</th>\n",
              "      <td>Arrival at Pickup - Day of Month</td>\n",
              "      <td>Arrival at Pickup - Day of Month i.e 1-31</td>\n",
              "    </tr>\n",
              "    <tr>\n",
              "      <th>11</th>\n",
              "      <td>Arrival at Pickup - Weekday (Mo = 1)</td>\n",
              "      <td>Arrival at Pickup - Weekday (Monday = 1)</td>\n",
              "    </tr>\n",
              "    <tr>\n",
              "      <th>12</th>\n",
              "      <td>Arrival at Pickup - Time</td>\n",
              "      <td>Time of day the the rider arrived at the locat...</td>\n",
              "    </tr>\n",
              "    <tr>\n",
              "      <th>13</th>\n",
              "      <td>Pickup - Day of Month</td>\n",
              "      <td>Pickup - Day of Month i.e 1-31</td>\n",
              "    </tr>\n",
              "    <tr>\n",
              "      <th>14</th>\n",
              "      <td>Pickup - Weekday (Mo = 1)</td>\n",
              "      <td>Pickup - Weekday (Monday = 1)</td>\n",
              "    </tr>\n",
              "    <tr>\n",
              "      <th>15</th>\n",
              "      <td>Pickup - Time</td>\n",
              "      <td>Pickup - Time - Time of day the the rider pick...</td>\n",
              "    </tr>\n",
              "    <tr>\n",
              "      <th>16</th>\n",
              "      <td>Arrival at Destination - Day of Month</td>\n",
              "      <td>Arrival at Delivery - Day of Month i.e 1-31</td>\n",
              "    </tr>\n",
              "    <tr>\n",
              "      <th>17</th>\n",
              "      <td>Arrival at Destination - Weekday (Mo = 1)</td>\n",
              "      <td>Arrival at Delivery - Weekday (Monday = 1)</td>\n",
              "    </tr>\n",
              "    <tr>\n",
              "      <th>18</th>\n",
              "      <td>Arrival at Destination - Time</td>\n",
              "      <td>Arrival at Delivery Time - Time of day the rid...</td>\n",
              "    </tr>\n",
              "    <tr>\n",
              "      <th>19</th>\n",
              "      <td>Distance (KM)</td>\n",
              "      <td>The distance from Pickup to Destination</td>\n",
              "    </tr>\n",
              "    <tr>\n",
              "      <th>20</th>\n",
              "      <td>Temperature</td>\n",
              "      <td>Temperature at the time of order placement in ...</td>\n",
              "    </tr>\n",
              "    <tr>\n",
              "      <th>21</th>\n",
              "      <td>Precipitation in millimeters</td>\n",
              "      <td>Precipitation at the time of order placement ...</td>\n",
              "    </tr>\n",
              "    <tr>\n",
              "      <th>22</th>\n",
              "      <td>Pickup Lat</td>\n",
              "      <td>Latitude of pick up location</td>\n",
              "    </tr>\n",
              "    <tr>\n",
              "      <th>23</th>\n",
              "      <td>Pickup Long</td>\n",
              "      <td>Longitude of pick up location</td>\n",
              "    </tr>\n",
              "    <tr>\n",
              "      <th>24</th>\n",
              "      <td>Destination Lat</td>\n",
              "      <td>Latitude of delivery location</td>\n",
              "    </tr>\n",
              "    <tr>\n",
              "      <th>25</th>\n",
              "      <td>Destination Long</td>\n",
              "      <td>Longitude of delivery location</td>\n",
              "    </tr>\n",
              "    <tr>\n",
              "      <th>26</th>\n",
              "      <td>Rider Id</td>\n",
              "      <td>ID of the Rider who accepted the order</td>\n",
              "    </tr>\n",
              "    <tr>\n",
              "      <th>27</th>\n",
              "      <td>Time from Pickup to Arrival</td>\n",
              "      <td>Time in seconds between 'Pickup' and 'Arrival ...</td>\n",
              "    </tr>\n",
              "    <tr>\n",
              "      <th>28</th>\n",
              "      <td>NaN</td>\n",
              "      <td>NaN</td>\n",
              "    </tr>\n",
              "    <tr>\n",
              "      <th>29</th>\n",
              "      <td>Rider Metrics</td>\n",
              "      <td>NaN</td>\n",
              "    </tr>\n",
              "    <tr>\n",
              "      <th>30</th>\n",
              "      <td>Rider Id</td>\n",
              "      <td>Unique number identifying the rider (same as i...</td>\n",
              "    </tr>\n",
              "    <tr>\n",
              "      <th>31</th>\n",
              "      <td>No_Of_Orders</td>\n",
              "      <td>Number of Orders the rider has delivered</td>\n",
              "    </tr>\n",
              "    <tr>\n",
              "      <th>32</th>\n",
              "      <td>Age</td>\n",
              "      <td>Number of days since the rider delivered the f...</td>\n",
              "    </tr>\n",
              "    <tr>\n",
              "      <th>33</th>\n",
              "      <td>Average_Rating</td>\n",
              "      <td>Average rating of the rider</td>\n",
              "    </tr>\n",
              "    <tr>\n",
              "      <th>34</th>\n",
              "      <td>No_of_Ratings</td>\n",
              "      <td>Number of ratings the rider has received. Rat...</td>\n",
              "    </tr>\n",
              "  </tbody>\n",
              "</table>\n",
              "</div>\n",
              "      <button class=\"colab-df-convert\" onclick=\"convertToInteractive('df-fc11bc98-0113-445a-b7d1-82c404dadf70')\"\n",
              "              title=\"Convert this dataframe to an interactive table.\"\n",
              "              style=\"display:none;\">\n",
              "        \n",
              "  <svg xmlns=\"http://www.w3.org/2000/svg\" height=\"24px\"viewBox=\"0 0 24 24\"\n",
              "       width=\"24px\">\n",
              "    <path d=\"M0 0h24v24H0V0z\" fill=\"none\"/>\n",
              "    <path d=\"M18.56 5.44l.94 2.06.94-2.06 2.06-.94-2.06-.94-.94-2.06-.94 2.06-2.06.94zm-11 1L8.5 8.5l.94-2.06 2.06-.94-2.06-.94L8.5 2.5l-.94 2.06-2.06.94zm10 10l.94 2.06.94-2.06 2.06-.94-2.06-.94-.94-2.06-.94 2.06-2.06.94z\"/><path d=\"M17.41 7.96l-1.37-1.37c-.4-.4-.92-.59-1.43-.59-.52 0-1.04.2-1.43.59L10.3 9.45l-7.72 7.72c-.78.78-.78 2.05 0 2.83L4 21.41c.39.39.9.59 1.41.59.51 0 1.02-.2 1.41-.59l7.78-7.78 2.81-2.81c.8-.78.8-2.07 0-2.86zM5.41 20L4 18.59l7.72-7.72 1.47 1.35L5.41 20z\"/>\n",
              "  </svg>\n",
              "      </button>\n",
              "      \n",
              "  <style>\n",
              "    .colab-df-container {\n",
              "      display:flex;\n",
              "      flex-wrap:wrap;\n",
              "      gap: 12px;\n",
              "    }\n",
              "\n",
              "    .colab-df-convert {\n",
              "      background-color: #E8F0FE;\n",
              "      border: none;\n",
              "      border-radius: 50%;\n",
              "      cursor: pointer;\n",
              "      display: none;\n",
              "      fill: #1967D2;\n",
              "      height: 32px;\n",
              "      padding: 0 0 0 0;\n",
              "      width: 32px;\n",
              "    }\n",
              "\n",
              "    .colab-df-convert:hover {\n",
              "      background-color: #E2EBFA;\n",
              "      box-shadow: 0px 1px 2px rgba(60, 64, 67, 0.3), 0px 1px 3px 1px rgba(60, 64, 67, 0.15);\n",
              "      fill: #174EA6;\n",
              "    }\n",
              "\n",
              "    [theme=dark] .colab-df-convert {\n",
              "      background-color: #3B4455;\n",
              "      fill: #D2E3FC;\n",
              "    }\n",
              "\n",
              "    [theme=dark] .colab-df-convert:hover {\n",
              "      background-color: #434B5C;\n",
              "      box-shadow: 0px 1px 3px 1px rgba(0, 0, 0, 0.15);\n",
              "      filter: drop-shadow(0px 1px 2px rgba(0, 0, 0, 0.3));\n",
              "      fill: #FFFFFF;\n",
              "    }\n",
              "  </style>\n",
              "\n",
              "      <script>\n",
              "        const buttonEl =\n",
              "          document.querySelector('#df-fc11bc98-0113-445a-b7d1-82c404dadf70 button.colab-df-convert');\n",
              "        buttonEl.style.display =\n",
              "          google.colab.kernel.accessAllowed ? 'block' : 'none';\n",
              "\n",
              "        async function convertToInteractive(key) {\n",
              "          const element = document.querySelector('#df-fc11bc98-0113-445a-b7d1-82c404dadf70');\n",
              "          const dataTable =\n",
              "            await google.colab.kernel.invokeFunction('convertToInteractive',\n",
              "                                                     [key], {});\n",
              "          if (!dataTable) return;\n",
              "\n",
              "          const docLinkHtml = 'Like what you see? Visit the ' +\n",
              "            '<a target=\"_blank\" href=https://colab.research.google.com/notebooks/data_table.ipynb>data table notebook</a>'\n",
              "            + ' to learn more about interactive tables.';\n",
              "          element.innerHTML = '';\n",
              "          dataTable['output_type'] = 'display_data';\n",
              "          await google.colab.output.renderOutput(dataTable, element);\n",
              "          const docLink = document.createElement('div');\n",
              "          docLink.innerHTML = docLinkHtml;\n",
              "          element.appendChild(docLink);\n",
              "        }\n",
              "      </script>\n",
              "    </div>\n",
              "  </div>\n",
              "  "
            ]
          },
          "metadata": {},
          "execution_count": 4
        }
      ]
    },
    {
      "cell_type": "code",
      "execution_count": null,
      "metadata": {
        "id": "L1qXDqtAs0pW"
      },
      "outputs": [],
      "source": [
        "# load data\n",
        "df = pd.read_csv(\"https://bit.ly/3deaKEM\")"
      ]
    },
    {
      "cell_type": "code",
      "source": [
        "# preview data\n",
        "df.head(3)"
      ],
      "metadata": {
        "colab": {
          "base_uri": "https://localhost:8080/",
          "height": 346
        },
        "id": "kaqC13nudr-6",
        "outputId": "de3b9a25-ea00-4b12-9ed0-cf53bc019d51"
      },
      "execution_count": null,
      "outputs": [
        {
          "output_type": "execute_result",
          "data": {
            "text/plain": [
              "         Order No       User Id Vehicle Type  Platform Type  \\\n",
              "0   Order_No_4211   User_Id_633         Bike              3   \n",
              "1  Order_No_25375  User_Id_2285         Bike              3   \n",
              "2   Order_No_1899   User_Id_265         Bike              3   \n",
              "\n",
              "  Personal or Business  Placement - Day of Month  \\\n",
              "0             Business                         9   \n",
              "1             Personal                        12   \n",
              "2             Business                        30   \n",
              "\n",
              "   Placement - Weekday (Mo = 1) Placement - Time  Confirmation - Day of Month  \\\n",
              "0                             5       9:35:46 AM                            9   \n",
              "1                             5      11:16:16 AM                           12   \n",
              "2                             2      12:39:25 PM                           30   \n",
              "\n",
              "   Confirmation - Weekday (Mo = 1) Confirmation - Time  \\\n",
              "0                                5          9:40:10 AM   \n",
              "1                                5         11:23:21 AM   \n",
              "2                                2         12:42:44 PM   \n",
              "\n",
              "   Arrival at Pickup - Day of Month  Arrival at Pickup - Weekday (Mo = 1)  \\\n",
              "0                                 9                                     5   \n",
              "1                                12                                     5   \n",
              "2                                30                                     2   \n",
              "\n",
              "  Arrival at Pickup - Time  Pickup - Day of Month  Pickup - Weekday (Mo = 1)  \\\n",
              "0              10:04:47 AM                      9                          5   \n",
              "1              11:40:22 AM                     12                          5   \n",
              "2              12:49:34 PM                     30                          2   \n",
              "\n",
              "  Pickup - Time  Arrival at Destination - Day of Month  \\\n",
              "0   10:27:30 AM                                      9   \n",
              "1   11:44:09 AM                                     12   \n",
              "2   12:53:03 PM                                     30   \n",
              "\n",
              "   Arrival at Destination - Weekday (Mo = 1) Arrival at Destination - Time  \\\n",
              "0                                          5                   10:39:55 AM   \n",
              "1                                          5                   12:17:22 PM   \n",
              "2                                          2                    1:00:38 PM   \n",
              "\n",
              "   Distance (KM)  Temperature  Precipitation in millimeters  Pickup Lat  \\\n",
              "0              4         20.4                           NaN   -1.317755   \n",
              "1             16         26.4                           NaN   -1.351453   \n",
              "2              3          NaN                           NaN   -1.308284   \n",
              "\n",
              "   Pickup Long  Destination Lat  Destination Long      Rider Id  \\\n",
              "0    36.830370        -1.300406         36.829741  Rider_Id_432   \n",
              "1    36.899315        -1.295004         36.814358  Rider_Id_856   \n",
              "2    36.843419        -1.300921         36.828195  Rider_Id_155   \n",
              "\n",
              "   Time from Pickup to Arrival  \n",
              "0                          745  \n",
              "1                         1993  \n",
              "2                          455  "
            ],
            "text/html": [
              "\n",
              "  <div id=\"df-c9f27e10-70c1-4781-82e6-df2581d11637\">\n",
              "    <div class=\"colab-df-container\">\n",
              "      <div>\n",
              "<style scoped>\n",
              "    .dataframe tbody tr th:only-of-type {\n",
              "        vertical-align: middle;\n",
              "    }\n",
              "\n",
              "    .dataframe tbody tr th {\n",
              "        vertical-align: top;\n",
              "    }\n",
              "\n",
              "    .dataframe thead th {\n",
              "        text-align: right;\n",
              "    }\n",
              "</style>\n",
              "<table border=\"1\" class=\"dataframe\">\n",
              "  <thead>\n",
              "    <tr style=\"text-align: right;\">\n",
              "      <th></th>\n",
              "      <th>Order No</th>\n",
              "      <th>User Id</th>\n",
              "      <th>Vehicle Type</th>\n",
              "      <th>Platform Type</th>\n",
              "      <th>Personal or Business</th>\n",
              "      <th>Placement - Day of Month</th>\n",
              "      <th>Placement - Weekday (Mo = 1)</th>\n",
              "      <th>Placement - Time</th>\n",
              "      <th>Confirmation - Day of Month</th>\n",
              "      <th>Confirmation - Weekday (Mo = 1)</th>\n",
              "      <th>Confirmation - Time</th>\n",
              "      <th>Arrival at Pickup - Day of Month</th>\n",
              "      <th>Arrival at Pickup - Weekday (Mo = 1)</th>\n",
              "      <th>Arrival at Pickup - Time</th>\n",
              "      <th>Pickup - Day of Month</th>\n",
              "      <th>Pickup - Weekday (Mo = 1)</th>\n",
              "      <th>Pickup - Time</th>\n",
              "      <th>Arrival at Destination - Day of Month</th>\n",
              "      <th>Arrival at Destination - Weekday (Mo = 1)</th>\n",
              "      <th>Arrival at Destination - Time</th>\n",
              "      <th>Distance (KM)</th>\n",
              "      <th>Temperature</th>\n",
              "      <th>Precipitation in millimeters</th>\n",
              "      <th>Pickup Lat</th>\n",
              "      <th>Pickup Long</th>\n",
              "      <th>Destination Lat</th>\n",
              "      <th>Destination Long</th>\n",
              "      <th>Rider Id</th>\n",
              "      <th>Time from Pickup to Arrival</th>\n",
              "    </tr>\n",
              "  </thead>\n",
              "  <tbody>\n",
              "    <tr>\n",
              "      <th>0</th>\n",
              "      <td>Order_No_4211</td>\n",
              "      <td>User_Id_633</td>\n",
              "      <td>Bike</td>\n",
              "      <td>3</td>\n",
              "      <td>Business</td>\n",
              "      <td>9</td>\n",
              "      <td>5</td>\n",
              "      <td>9:35:46 AM</td>\n",
              "      <td>9</td>\n",
              "      <td>5</td>\n",
              "      <td>9:40:10 AM</td>\n",
              "      <td>9</td>\n",
              "      <td>5</td>\n",
              "      <td>10:04:47 AM</td>\n",
              "      <td>9</td>\n",
              "      <td>5</td>\n",
              "      <td>10:27:30 AM</td>\n",
              "      <td>9</td>\n",
              "      <td>5</td>\n",
              "      <td>10:39:55 AM</td>\n",
              "      <td>4</td>\n",
              "      <td>20.4</td>\n",
              "      <td>NaN</td>\n",
              "      <td>-1.317755</td>\n",
              "      <td>36.830370</td>\n",
              "      <td>-1.300406</td>\n",
              "      <td>36.829741</td>\n",
              "      <td>Rider_Id_432</td>\n",
              "      <td>745</td>\n",
              "    </tr>\n",
              "    <tr>\n",
              "      <th>1</th>\n",
              "      <td>Order_No_25375</td>\n",
              "      <td>User_Id_2285</td>\n",
              "      <td>Bike</td>\n",
              "      <td>3</td>\n",
              "      <td>Personal</td>\n",
              "      <td>12</td>\n",
              "      <td>5</td>\n",
              "      <td>11:16:16 AM</td>\n",
              "      <td>12</td>\n",
              "      <td>5</td>\n",
              "      <td>11:23:21 AM</td>\n",
              "      <td>12</td>\n",
              "      <td>5</td>\n",
              "      <td>11:40:22 AM</td>\n",
              "      <td>12</td>\n",
              "      <td>5</td>\n",
              "      <td>11:44:09 AM</td>\n",
              "      <td>12</td>\n",
              "      <td>5</td>\n",
              "      <td>12:17:22 PM</td>\n",
              "      <td>16</td>\n",
              "      <td>26.4</td>\n",
              "      <td>NaN</td>\n",
              "      <td>-1.351453</td>\n",
              "      <td>36.899315</td>\n",
              "      <td>-1.295004</td>\n",
              "      <td>36.814358</td>\n",
              "      <td>Rider_Id_856</td>\n",
              "      <td>1993</td>\n",
              "    </tr>\n",
              "    <tr>\n",
              "      <th>2</th>\n",
              "      <td>Order_No_1899</td>\n",
              "      <td>User_Id_265</td>\n",
              "      <td>Bike</td>\n",
              "      <td>3</td>\n",
              "      <td>Business</td>\n",
              "      <td>30</td>\n",
              "      <td>2</td>\n",
              "      <td>12:39:25 PM</td>\n",
              "      <td>30</td>\n",
              "      <td>2</td>\n",
              "      <td>12:42:44 PM</td>\n",
              "      <td>30</td>\n",
              "      <td>2</td>\n",
              "      <td>12:49:34 PM</td>\n",
              "      <td>30</td>\n",
              "      <td>2</td>\n",
              "      <td>12:53:03 PM</td>\n",
              "      <td>30</td>\n",
              "      <td>2</td>\n",
              "      <td>1:00:38 PM</td>\n",
              "      <td>3</td>\n",
              "      <td>NaN</td>\n",
              "      <td>NaN</td>\n",
              "      <td>-1.308284</td>\n",
              "      <td>36.843419</td>\n",
              "      <td>-1.300921</td>\n",
              "      <td>36.828195</td>\n",
              "      <td>Rider_Id_155</td>\n",
              "      <td>455</td>\n",
              "    </tr>\n",
              "  </tbody>\n",
              "</table>\n",
              "</div>\n",
              "      <button class=\"colab-df-convert\" onclick=\"convertToInteractive('df-c9f27e10-70c1-4781-82e6-df2581d11637')\"\n",
              "              title=\"Convert this dataframe to an interactive table.\"\n",
              "              style=\"display:none;\">\n",
              "        \n",
              "  <svg xmlns=\"http://www.w3.org/2000/svg\" height=\"24px\"viewBox=\"0 0 24 24\"\n",
              "       width=\"24px\">\n",
              "    <path d=\"M0 0h24v24H0V0z\" fill=\"none\"/>\n",
              "    <path d=\"M18.56 5.44l.94 2.06.94-2.06 2.06-.94-2.06-.94-.94-2.06-.94 2.06-2.06.94zm-11 1L8.5 8.5l.94-2.06 2.06-.94-2.06-.94L8.5 2.5l-.94 2.06-2.06.94zm10 10l.94 2.06.94-2.06 2.06-.94-2.06-.94-.94-2.06-.94 2.06-2.06.94z\"/><path d=\"M17.41 7.96l-1.37-1.37c-.4-.4-.92-.59-1.43-.59-.52 0-1.04.2-1.43.59L10.3 9.45l-7.72 7.72c-.78.78-.78 2.05 0 2.83L4 21.41c.39.39.9.59 1.41.59.51 0 1.02-.2 1.41-.59l7.78-7.78 2.81-2.81c.8-.78.8-2.07 0-2.86zM5.41 20L4 18.59l7.72-7.72 1.47 1.35L5.41 20z\"/>\n",
              "  </svg>\n",
              "      </button>\n",
              "      \n",
              "  <style>\n",
              "    .colab-df-container {\n",
              "      display:flex;\n",
              "      flex-wrap:wrap;\n",
              "      gap: 12px;\n",
              "    }\n",
              "\n",
              "    .colab-df-convert {\n",
              "      background-color: #E8F0FE;\n",
              "      border: none;\n",
              "      border-radius: 50%;\n",
              "      cursor: pointer;\n",
              "      display: none;\n",
              "      fill: #1967D2;\n",
              "      height: 32px;\n",
              "      padding: 0 0 0 0;\n",
              "      width: 32px;\n",
              "    }\n",
              "\n",
              "    .colab-df-convert:hover {\n",
              "      background-color: #E2EBFA;\n",
              "      box-shadow: 0px 1px 2px rgba(60, 64, 67, 0.3), 0px 1px 3px 1px rgba(60, 64, 67, 0.15);\n",
              "      fill: #174EA6;\n",
              "    }\n",
              "\n",
              "    [theme=dark] .colab-df-convert {\n",
              "      background-color: #3B4455;\n",
              "      fill: #D2E3FC;\n",
              "    }\n",
              "\n",
              "    [theme=dark] .colab-df-convert:hover {\n",
              "      background-color: #434B5C;\n",
              "      box-shadow: 0px 1px 3px 1px rgba(0, 0, 0, 0.15);\n",
              "      filter: drop-shadow(0px 1px 2px rgba(0, 0, 0, 0.3));\n",
              "      fill: #FFFFFF;\n",
              "    }\n",
              "  </style>\n",
              "\n",
              "      <script>\n",
              "        const buttonEl =\n",
              "          document.querySelector('#df-c9f27e10-70c1-4781-82e6-df2581d11637 button.colab-df-convert');\n",
              "        buttonEl.style.display =\n",
              "          google.colab.kernel.accessAllowed ? 'block' : 'none';\n",
              "\n",
              "        async function convertToInteractive(key) {\n",
              "          const element = document.querySelector('#df-c9f27e10-70c1-4781-82e6-df2581d11637');\n",
              "          const dataTable =\n",
              "            await google.colab.kernel.invokeFunction('convertToInteractive',\n",
              "                                                     [key], {});\n",
              "          if (!dataTable) return;\n",
              "\n",
              "          const docLinkHtml = 'Like what you see? Visit the ' +\n",
              "            '<a target=\"_blank\" href=https://colab.research.google.com/notebooks/data_table.ipynb>data table notebook</a>'\n",
              "            + ' to learn more about interactive tables.';\n",
              "          element.innerHTML = '';\n",
              "          dataTable['output_type'] = 'display_data';\n",
              "          await google.colab.output.renderOutput(dataTable, element);\n",
              "          const docLink = document.createElement('div');\n",
              "          docLink.innerHTML = docLinkHtml;\n",
              "          element.appendChild(docLink);\n",
              "        }\n",
              "      </script>\n",
              "    </div>\n",
              "  </div>\n",
              "  "
            ]
          },
          "metadata": {},
          "execution_count": 6
        }
      ]
    },
    {
      "cell_type": "code",
      "source": [
        "#check for duplicates\n",
        "df.duplicated().sum()"
      ],
      "metadata": {
        "colab": {
          "base_uri": "https://localhost:8080/"
        },
        "id": "v5BtdEI2_EkR",
        "outputId": "6d95d846-e50a-4cb1-f63d-3ab7555734a1"
      },
      "execution_count": null,
      "outputs": [
        {
          "output_type": "execute_result",
          "data": {
            "text/plain": [
              "0"
            ]
          },
          "metadata": {},
          "execution_count": 7
        }
      ]
    },
    {
      "cell_type": "code",
      "source": [
        "# #check for duplicates in the Order No feature\n",
        "df['Order No'].duplicated().sum()"
      ],
      "metadata": {
        "colab": {
          "base_uri": "https://localhost:8080/"
        },
        "id": "jiVlH9u8ZGWF",
        "outputId": "e0c7b222-2b52-4b94-cc91-be4294364877"
      },
      "execution_count": null,
      "outputs": [
        {
          "output_type": "execute_result",
          "data": {
            "text/plain": [
              "0"
            ]
          },
          "metadata": {},
          "execution_count": 8
        }
      ]
    },
    {
      "cell_type": "code",
      "source": [
        "# drop unnecessary columns\n",
        "df = df.drop(['Order No',\t'User Id', 'Rider Id'], axis = 1)"
      ],
      "metadata": {
        "id": "M_gxxIMdKnIr"
      },
      "execution_count": null,
      "outputs": []
    },
    {
      "cell_type": "code",
      "source": [
        "# check the dataset shape\n",
        "df.shape"
      ],
      "metadata": {
        "colab": {
          "base_uri": "https://localhost:8080/"
        },
        "id": "ldtEP6_3e6VC",
        "outputId": "fe462f2f-c3d9-4c32-fe0a-dd078160e56b"
      },
      "execution_count": null,
      "outputs": [
        {
          "output_type": "execute_result",
          "data": {
            "text/plain": [
              "(21201, 26)"
            ]
          },
          "metadata": {},
          "execution_count": 10
        }
      ]
    },
    {
      "cell_type": "code",
      "source": [
        "# check for null values\n",
        "df.isna().sum()"
      ],
      "metadata": {
        "id": "3f5ZqD2VfGlv",
        "colab": {
          "base_uri": "https://localhost:8080/"
        },
        "outputId": "5b9b0dcd-d7ed-4383-c085-1892461e2ad3"
      },
      "execution_count": null,
      "outputs": [
        {
          "output_type": "execute_result",
          "data": {
            "text/plain": [
              "Vehicle Type                                     0\n",
              "Platform Type                                    0\n",
              "Personal or Business                             0\n",
              "Placement - Day of Month                         0\n",
              "Placement - Weekday (Mo = 1)                     0\n",
              "Placement - Time                                 0\n",
              "Confirmation - Day of Month                      0\n",
              "Confirmation - Weekday (Mo = 1)                  0\n",
              "Confirmation - Time                              0\n",
              "Arrival at Pickup - Day of Month                 0\n",
              "Arrival at Pickup - Weekday (Mo = 1)             0\n",
              "Arrival at Pickup - Time                         0\n",
              "Pickup - Day of Month                            0\n",
              "Pickup - Weekday (Mo = 1)                        0\n",
              "Pickup - Time                                    0\n",
              "Arrival at Destination - Day of Month            0\n",
              "Arrival at Destination - Weekday (Mo = 1)        0\n",
              "Arrival at Destination - Time                    0\n",
              "Distance (KM)                                    0\n",
              "Temperature                                   4366\n",
              "Precipitation in millimeters                 20649\n",
              "Pickup Lat                                       0\n",
              "Pickup Long                                      0\n",
              "Destination Lat                                  0\n",
              "Destination Long                                 0\n",
              "Time from Pickup to Arrival                      0\n",
              "dtype: int64"
            ]
          },
          "metadata": {},
          "execution_count": 11
        }
      ]
    },
    {
      "cell_type": "markdown",
      "source": [
        "> Precipitation in millimeters and temperature features have missing values."
      ],
      "metadata": {
        "id": "w3NGN4e1-8GR"
      }
    },
    {
      "cell_type": "code",
      "source": [
        "# drop Precipitation in millimeters\n",
        "df = df.drop(['Precipitation in millimeters'], axis = 1)"
      ],
      "metadata": {
        "id": "PEKyTS2R_YsM"
      },
      "execution_count": null,
      "outputs": []
    },
    {
      "cell_type": "code",
      "source": [
        "# impute missing values for the Temperature feature with mean, only 20% of observations are missing\n",
        "df['Temperature'] = df.Temperature.fillna(value = df.Temperature.mean())"
      ],
      "metadata": {
        "id": "o3erY-0J_MWN"
      },
      "execution_count": null,
      "outputs": []
    },
    {
      "cell_type": "code",
      "source": [
        "df.isna().sum()"
      ],
      "metadata": {
        "colab": {
          "base_uri": "https://localhost:8080/"
        },
        "id": "topapCOdAJdD",
        "outputId": "39573587-1d74-42e6-f9c7-a8c01c7ac26a"
      },
      "execution_count": null,
      "outputs": [
        {
          "output_type": "execute_result",
          "data": {
            "text/plain": [
              "Vehicle Type                                 0\n",
              "Platform Type                                0\n",
              "Personal or Business                         0\n",
              "Placement - Day of Month                     0\n",
              "Placement - Weekday (Mo = 1)                 0\n",
              "Placement - Time                             0\n",
              "Confirmation - Day of Month                  0\n",
              "Confirmation - Weekday (Mo = 1)              0\n",
              "Confirmation - Time                          0\n",
              "Arrival at Pickup - Day of Month             0\n",
              "Arrival at Pickup - Weekday (Mo = 1)         0\n",
              "Arrival at Pickup - Time                     0\n",
              "Pickup - Day of Month                        0\n",
              "Pickup - Weekday (Mo = 1)                    0\n",
              "Pickup - Time                                0\n",
              "Arrival at Destination - Day of Month        0\n",
              "Arrival at Destination - Weekday (Mo = 1)    0\n",
              "Arrival at Destination - Time                0\n",
              "Distance (KM)                                0\n",
              "Temperature                                  0\n",
              "Pickup Lat                                   0\n",
              "Pickup Long                                  0\n",
              "Destination Lat                              0\n",
              "Destination Long                             0\n",
              "Time from Pickup to Arrival                  0\n",
              "dtype: int64"
            ]
          },
          "metadata": {},
          "execution_count": 14
        }
      ]
    },
    {
      "cell_type": "code",
      "source": [
        "df['Vehicle Type'].value_counts()"
      ],
      "metadata": {
        "colab": {
          "base_uri": "https://localhost:8080/"
        },
        "id": "PMp-SgOZZju4",
        "outputId": "92002549-df38-4c96-be20-8d52682143f3"
      },
      "execution_count": null,
      "outputs": [
        {
          "output_type": "execute_result",
          "data": {
            "text/plain": [
              "Bike    21201\n",
              "Name: Vehicle Type, dtype: int64"
            ]
          },
          "metadata": {},
          "execution_count": 15
        }
      ]
    },
    {
      "cell_type": "markdown",
      "source": [
        "> Drop Vehicle Type feauture because there's only one vehicle type for all observations"
      ],
      "metadata": {
        "id": "fc72h4dAZ6u-"
      }
    },
    {
      "cell_type": "code",
      "source": [
        "df = df.drop(['Vehicle Type'], axis = 1)"
      ],
      "metadata": {
        "id": "P3nDXuZ0aGaw"
      },
      "execution_count": null,
      "outputs": []
    },
    {
      "cell_type": "code",
      "source": [
        "# check unique Personal or Business feature values\n",
        "df['Personal or Business'].value_counts()"
      ],
      "metadata": {
        "colab": {
          "base_uri": "https://localhost:8080/"
        },
        "id": "H-kje2uZannp",
        "outputId": "22e8b853-aa42-4d36-de60-8e43927adca6"
      },
      "execution_count": null,
      "outputs": [
        {
          "output_type": "execute_result",
          "data": {
            "text/plain": [
              "Business    17384\n",
              "Personal     3817\n",
              "Name: Personal or Business, dtype: int64"
            ]
          },
          "metadata": {},
          "execution_count": 17
        }
      ]
    },
    {
      "cell_type": "code",
      "source": [
        "# encode Personal or Business feature\n",
        "df['Personal or Business'] = df['Personal or Business'].astype('category').cat.codes"
      ],
      "metadata": {
        "id": "TIjgi_visIBD"
      },
      "execution_count": null,
      "outputs": []
    },
    {
      "cell_type": "code",
      "source": [
        "df['Personal or Business'].value_counts()"
      ],
      "metadata": {
        "colab": {
          "base_uri": "https://localhost:8080/"
        },
        "id": "ApdpwSSRsOz1",
        "outputId": "72c708df-ebb3-4b66-8e37-a5ef8f31ac3d"
      },
      "execution_count": null,
      "outputs": [
        {
          "output_type": "execute_result",
          "data": {
            "text/plain": [
              "0    17384\n",
              "1     3817\n",
              "Name: Personal or Business, dtype: int64"
            ]
          },
          "metadata": {},
          "execution_count": 19
        }
      ]
    },
    {
      "cell_type": "markdown",
      "source": [
        "Our time feautures are in the form I:M:S, we can convert these to HMS. For example, 2:19:47 PM becomes 141947.\n",
        "\n",
        "%H is the 24 hour clock, %I is the 12 hour clock and when using the 12 hour clock, %p qualifies if it is AM or PM"
      ],
      "metadata": {
        "id": "XIRrPFl3xO8m"
      }
    },
    {
      "cell_type": "code",
      "source": [
        "from datetime import datetime\n",
        "\n",
        "def time_converter(time):\n",
        "  in_time = datetime.strptime(time, \"%I:%M:%S %p\")\n",
        "  out_time = datetime.strftime(in_time, \"%H%M%S\")\n",
        "  return out_time"
      ],
      "metadata": {
        "id": "u_TDMSsMwgje"
      },
      "execution_count": null,
      "outputs": []
    },
    {
      "cell_type": "code",
      "source": [
        "time_cols = ['Placement - Time', 'Confirmation - Time', 'Arrival at Pickup - Time', 'Pickup - Time', 'Arrival at Destination - Time']"
      ],
      "metadata": {
        "id": "mAalmKVJ2n_E"
      },
      "execution_count": null,
      "outputs": []
    },
    {
      "cell_type": "code",
      "source": [
        "df[time_cols].sample(5)"
      ],
      "metadata": {
        "colab": {
          "base_uri": "https://localhost:8080/",
          "height": 206
        },
        "id": "GQ4SI8qO4zG4",
        "outputId": "4a3bbf3d-deb9-41ee-ccf2-c813d4009e6e"
      },
      "execution_count": null,
      "outputs": [
        {
          "output_type": "execute_result",
          "data": {
            "text/plain": [
              "      Placement - Time Confirmation - Time Arrival at Pickup - Time  \\\n",
              "2814       10:08:32 AM         10:08:47 AM              10:16:00 AM   \n",
              "10039       3:43:45 PM          4:17:04 PM               4:26:58 PM   \n",
              "11385       9:49:42 AM          9:52:49 AM              10:15:36 AM   \n",
              "15659       4:06:24 PM          4:07:01 PM               4:07:44 PM   \n",
              "6913        9:18:56 AM          9:19:07 AM               9:19:39 AM   \n",
              "\n",
              "      Pickup - Time Arrival at Destination - Time  \n",
              "2814    10:18:18 AM                   10:41:36 AM  \n",
              "10039    4:43:02 PM                    4:53:33 PM  \n",
              "11385   10:16:56 AM                   10:30:33 AM  \n",
              "15659    4:15:20 PM                    4:31:08 PM  \n",
              "6913     9:41:34 AM                   10:17:02 AM  "
            ],
            "text/html": [
              "\n",
              "  <div id=\"df-b5810045-24c1-493d-a696-ba60ca7816b0\">\n",
              "    <div class=\"colab-df-container\">\n",
              "      <div>\n",
              "<style scoped>\n",
              "    .dataframe tbody tr th:only-of-type {\n",
              "        vertical-align: middle;\n",
              "    }\n",
              "\n",
              "    .dataframe tbody tr th {\n",
              "        vertical-align: top;\n",
              "    }\n",
              "\n",
              "    .dataframe thead th {\n",
              "        text-align: right;\n",
              "    }\n",
              "</style>\n",
              "<table border=\"1\" class=\"dataframe\">\n",
              "  <thead>\n",
              "    <tr style=\"text-align: right;\">\n",
              "      <th></th>\n",
              "      <th>Placement - Time</th>\n",
              "      <th>Confirmation - Time</th>\n",
              "      <th>Arrival at Pickup - Time</th>\n",
              "      <th>Pickup - Time</th>\n",
              "      <th>Arrival at Destination - Time</th>\n",
              "    </tr>\n",
              "  </thead>\n",
              "  <tbody>\n",
              "    <tr>\n",
              "      <th>2814</th>\n",
              "      <td>10:08:32 AM</td>\n",
              "      <td>10:08:47 AM</td>\n",
              "      <td>10:16:00 AM</td>\n",
              "      <td>10:18:18 AM</td>\n",
              "      <td>10:41:36 AM</td>\n",
              "    </tr>\n",
              "    <tr>\n",
              "      <th>10039</th>\n",
              "      <td>3:43:45 PM</td>\n",
              "      <td>4:17:04 PM</td>\n",
              "      <td>4:26:58 PM</td>\n",
              "      <td>4:43:02 PM</td>\n",
              "      <td>4:53:33 PM</td>\n",
              "    </tr>\n",
              "    <tr>\n",
              "      <th>11385</th>\n",
              "      <td>9:49:42 AM</td>\n",
              "      <td>9:52:49 AM</td>\n",
              "      <td>10:15:36 AM</td>\n",
              "      <td>10:16:56 AM</td>\n",
              "      <td>10:30:33 AM</td>\n",
              "    </tr>\n",
              "    <tr>\n",
              "      <th>15659</th>\n",
              "      <td>4:06:24 PM</td>\n",
              "      <td>4:07:01 PM</td>\n",
              "      <td>4:07:44 PM</td>\n",
              "      <td>4:15:20 PM</td>\n",
              "      <td>4:31:08 PM</td>\n",
              "    </tr>\n",
              "    <tr>\n",
              "      <th>6913</th>\n",
              "      <td>9:18:56 AM</td>\n",
              "      <td>9:19:07 AM</td>\n",
              "      <td>9:19:39 AM</td>\n",
              "      <td>9:41:34 AM</td>\n",
              "      <td>10:17:02 AM</td>\n",
              "    </tr>\n",
              "  </tbody>\n",
              "</table>\n",
              "</div>\n",
              "      <button class=\"colab-df-convert\" onclick=\"convertToInteractive('df-b5810045-24c1-493d-a696-ba60ca7816b0')\"\n",
              "              title=\"Convert this dataframe to an interactive table.\"\n",
              "              style=\"display:none;\">\n",
              "        \n",
              "  <svg xmlns=\"http://www.w3.org/2000/svg\" height=\"24px\"viewBox=\"0 0 24 24\"\n",
              "       width=\"24px\">\n",
              "    <path d=\"M0 0h24v24H0V0z\" fill=\"none\"/>\n",
              "    <path d=\"M18.56 5.44l.94 2.06.94-2.06 2.06-.94-2.06-.94-.94-2.06-.94 2.06-2.06.94zm-11 1L8.5 8.5l.94-2.06 2.06-.94-2.06-.94L8.5 2.5l-.94 2.06-2.06.94zm10 10l.94 2.06.94-2.06 2.06-.94-2.06-.94-.94-2.06-.94 2.06-2.06.94z\"/><path d=\"M17.41 7.96l-1.37-1.37c-.4-.4-.92-.59-1.43-.59-.52 0-1.04.2-1.43.59L10.3 9.45l-7.72 7.72c-.78.78-.78 2.05 0 2.83L4 21.41c.39.39.9.59 1.41.59.51 0 1.02-.2 1.41-.59l7.78-7.78 2.81-2.81c.8-.78.8-2.07 0-2.86zM5.41 20L4 18.59l7.72-7.72 1.47 1.35L5.41 20z\"/>\n",
              "  </svg>\n",
              "      </button>\n",
              "      \n",
              "  <style>\n",
              "    .colab-df-container {\n",
              "      display:flex;\n",
              "      flex-wrap:wrap;\n",
              "      gap: 12px;\n",
              "    }\n",
              "\n",
              "    .colab-df-convert {\n",
              "      background-color: #E8F0FE;\n",
              "      border: none;\n",
              "      border-radius: 50%;\n",
              "      cursor: pointer;\n",
              "      display: none;\n",
              "      fill: #1967D2;\n",
              "      height: 32px;\n",
              "      padding: 0 0 0 0;\n",
              "      width: 32px;\n",
              "    }\n",
              "\n",
              "    .colab-df-convert:hover {\n",
              "      background-color: #E2EBFA;\n",
              "      box-shadow: 0px 1px 2px rgba(60, 64, 67, 0.3), 0px 1px 3px 1px rgba(60, 64, 67, 0.15);\n",
              "      fill: #174EA6;\n",
              "    }\n",
              "\n",
              "    [theme=dark] .colab-df-convert {\n",
              "      background-color: #3B4455;\n",
              "      fill: #D2E3FC;\n",
              "    }\n",
              "\n",
              "    [theme=dark] .colab-df-convert:hover {\n",
              "      background-color: #434B5C;\n",
              "      box-shadow: 0px 1px 3px 1px rgba(0, 0, 0, 0.15);\n",
              "      filter: drop-shadow(0px 1px 2px rgba(0, 0, 0, 0.3));\n",
              "      fill: #FFFFFF;\n",
              "    }\n",
              "  </style>\n",
              "\n",
              "      <script>\n",
              "        const buttonEl =\n",
              "          document.querySelector('#df-b5810045-24c1-493d-a696-ba60ca7816b0 button.colab-df-convert');\n",
              "        buttonEl.style.display =\n",
              "          google.colab.kernel.accessAllowed ? 'block' : 'none';\n",
              "\n",
              "        async function convertToInteractive(key) {\n",
              "          const element = document.querySelector('#df-b5810045-24c1-493d-a696-ba60ca7816b0');\n",
              "          const dataTable =\n",
              "            await google.colab.kernel.invokeFunction('convertToInteractive',\n",
              "                                                     [key], {});\n",
              "          if (!dataTable) return;\n",
              "\n",
              "          const docLinkHtml = 'Like what you see? Visit the ' +\n",
              "            '<a target=\"_blank\" href=https://colab.research.google.com/notebooks/data_table.ipynb>data table notebook</a>'\n",
              "            + ' to learn more about interactive tables.';\n",
              "          element.innerHTML = '';\n",
              "          dataTable['output_type'] = 'display_data';\n",
              "          await google.colab.output.renderOutput(dataTable, element);\n",
              "          const docLink = document.createElement('div');\n",
              "          docLink.innerHTML = docLinkHtml;\n",
              "          element.appendChild(docLink);\n",
              "        }\n",
              "      </script>\n",
              "    </div>\n",
              "  </div>\n",
              "  "
            ]
          },
          "metadata": {},
          "execution_count": 22
        }
      ]
    },
    {
      "cell_type": "code",
      "source": [
        "for col in time_cols:\n",
        "  df[col] = df[col].apply(time_converter)\n",
        "  print('Success converting', col)"
      ],
      "metadata": {
        "colab": {
          "base_uri": "https://localhost:8080/"
        },
        "id": "p8nRjcGl2grC",
        "outputId": "d79407f6-e3a9-41a4-e5da-a942191ceb47"
      },
      "execution_count": null,
      "outputs": [
        {
          "output_type": "stream",
          "name": "stdout",
          "text": [
            "Success converting Placement - Time\n",
            "Success converting Confirmation - Time\n",
            "Success converting Arrival at Pickup - Time\n",
            "Success converting Pickup - Time\n",
            "Success converting Arrival at Destination - Time\n"
          ]
        }
      ]
    },
    {
      "cell_type": "code",
      "source": [
        "df[time_cols].sample(5)"
      ],
      "metadata": {
        "colab": {
          "base_uri": "https://localhost:8080/",
          "height": 206
        },
        "id": "N6Y6_FAX5UhC",
        "outputId": "c5370b75-4629-4511-c8b2-b76944940c52"
      },
      "execution_count": null,
      "outputs": [
        {
          "output_type": "execute_result",
          "data": {
            "text/plain": [
              "      Placement - Time Confirmation - Time Arrival at Pickup - Time  \\\n",
              "4457            153443              153449                   153505   \n",
              "1615            124146              124533                   125000   \n",
              "11226           153549              153636                   154539   \n",
              "8660            150747              150755                   150814   \n",
              "18884           141912              141925                   141934   \n",
              "\n",
              "      Pickup - Time Arrival at Destination - Time  \n",
              "4457         154050                        161915  \n",
              "1615         130129                        141109  \n",
              "11226        155036                        161354  \n",
              "8660         151128                        155025  \n",
              "18884        150024                        152146  "
            ],
            "text/html": [
              "\n",
              "  <div id=\"df-ab281409-59ca-47d2-842d-f3186dcbee82\">\n",
              "    <div class=\"colab-df-container\">\n",
              "      <div>\n",
              "<style scoped>\n",
              "    .dataframe tbody tr th:only-of-type {\n",
              "        vertical-align: middle;\n",
              "    }\n",
              "\n",
              "    .dataframe tbody tr th {\n",
              "        vertical-align: top;\n",
              "    }\n",
              "\n",
              "    .dataframe thead th {\n",
              "        text-align: right;\n",
              "    }\n",
              "</style>\n",
              "<table border=\"1\" class=\"dataframe\">\n",
              "  <thead>\n",
              "    <tr style=\"text-align: right;\">\n",
              "      <th></th>\n",
              "      <th>Placement - Time</th>\n",
              "      <th>Confirmation - Time</th>\n",
              "      <th>Arrival at Pickup - Time</th>\n",
              "      <th>Pickup - Time</th>\n",
              "      <th>Arrival at Destination - Time</th>\n",
              "    </tr>\n",
              "  </thead>\n",
              "  <tbody>\n",
              "    <tr>\n",
              "      <th>4457</th>\n",
              "      <td>153443</td>\n",
              "      <td>153449</td>\n",
              "      <td>153505</td>\n",
              "      <td>154050</td>\n",
              "      <td>161915</td>\n",
              "    </tr>\n",
              "    <tr>\n",
              "      <th>1615</th>\n",
              "      <td>124146</td>\n",
              "      <td>124533</td>\n",
              "      <td>125000</td>\n",
              "      <td>130129</td>\n",
              "      <td>141109</td>\n",
              "    </tr>\n",
              "    <tr>\n",
              "      <th>11226</th>\n",
              "      <td>153549</td>\n",
              "      <td>153636</td>\n",
              "      <td>154539</td>\n",
              "      <td>155036</td>\n",
              "      <td>161354</td>\n",
              "    </tr>\n",
              "    <tr>\n",
              "      <th>8660</th>\n",
              "      <td>150747</td>\n",
              "      <td>150755</td>\n",
              "      <td>150814</td>\n",
              "      <td>151128</td>\n",
              "      <td>155025</td>\n",
              "    </tr>\n",
              "    <tr>\n",
              "      <th>18884</th>\n",
              "      <td>141912</td>\n",
              "      <td>141925</td>\n",
              "      <td>141934</td>\n",
              "      <td>150024</td>\n",
              "      <td>152146</td>\n",
              "    </tr>\n",
              "  </tbody>\n",
              "</table>\n",
              "</div>\n",
              "      <button class=\"colab-df-convert\" onclick=\"convertToInteractive('df-ab281409-59ca-47d2-842d-f3186dcbee82')\"\n",
              "              title=\"Convert this dataframe to an interactive table.\"\n",
              "              style=\"display:none;\">\n",
              "        \n",
              "  <svg xmlns=\"http://www.w3.org/2000/svg\" height=\"24px\"viewBox=\"0 0 24 24\"\n",
              "       width=\"24px\">\n",
              "    <path d=\"M0 0h24v24H0V0z\" fill=\"none\"/>\n",
              "    <path d=\"M18.56 5.44l.94 2.06.94-2.06 2.06-.94-2.06-.94-.94-2.06-.94 2.06-2.06.94zm-11 1L8.5 8.5l.94-2.06 2.06-.94-2.06-.94L8.5 2.5l-.94 2.06-2.06.94zm10 10l.94 2.06.94-2.06 2.06-.94-2.06-.94-.94-2.06-.94 2.06-2.06.94z\"/><path d=\"M17.41 7.96l-1.37-1.37c-.4-.4-.92-.59-1.43-.59-.52 0-1.04.2-1.43.59L10.3 9.45l-7.72 7.72c-.78.78-.78 2.05 0 2.83L4 21.41c.39.39.9.59 1.41.59.51 0 1.02-.2 1.41-.59l7.78-7.78 2.81-2.81c.8-.78.8-2.07 0-2.86zM5.41 20L4 18.59l7.72-7.72 1.47 1.35L5.41 20z\"/>\n",
              "  </svg>\n",
              "      </button>\n",
              "      \n",
              "  <style>\n",
              "    .colab-df-container {\n",
              "      display:flex;\n",
              "      flex-wrap:wrap;\n",
              "      gap: 12px;\n",
              "    }\n",
              "\n",
              "    .colab-df-convert {\n",
              "      background-color: #E8F0FE;\n",
              "      border: none;\n",
              "      border-radius: 50%;\n",
              "      cursor: pointer;\n",
              "      display: none;\n",
              "      fill: #1967D2;\n",
              "      height: 32px;\n",
              "      padding: 0 0 0 0;\n",
              "      width: 32px;\n",
              "    }\n",
              "\n",
              "    .colab-df-convert:hover {\n",
              "      background-color: #E2EBFA;\n",
              "      box-shadow: 0px 1px 2px rgba(60, 64, 67, 0.3), 0px 1px 3px 1px rgba(60, 64, 67, 0.15);\n",
              "      fill: #174EA6;\n",
              "    }\n",
              "\n",
              "    [theme=dark] .colab-df-convert {\n",
              "      background-color: #3B4455;\n",
              "      fill: #D2E3FC;\n",
              "    }\n",
              "\n",
              "    [theme=dark] .colab-df-convert:hover {\n",
              "      background-color: #434B5C;\n",
              "      box-shadow: 0px 1px 3px 1px rgba(0, 0, 0, 0.15);\n",
              "      filter: drop-shadow(0px 1px 2px rgba(0, 0, 0, 0.3));\n",
              "      fill: #FFFFFF;\n",
              "    }\n",
              "  </style>\n",
              "\n",
              "      <script>\n",
              "        const buttonEl =\n",
              "          document.querySelector('#df-ab281409-59ca-47d2-842d-f3186dcbee82 button.colab-df-convert');\n",
              "        buttonEl.style.display =\n",
              "          google.colab.kernel.accessAllowed ? 'block' : 'none';\n",
              "\n",
              "        async function convertToInteractive(key) {\n",
              "          const element = document.querySelector('#df-ab281409-59ca-47d2-842d-f3186dcbee82');\n",
              "          const dataTable =\n",
              "            await google.colab.kernel.invokeFunction('convertToInteractive',\n",
              "                                                     [key], {});\n",
              "          if (!dataTable) return;\n",
              "\n",
              "          const docLinkHtml = 'Like what you see? Visit the ' +\n",
              "            '<a target=\"_blank\" href=https://colab.research.google.com/notebooks/data_table.ipynb>data table notebook</a>'\n",
              "            + ' to learn more about interactive tables.';\n",
              "          element.innerHTML = '';\n",
              "          dataTable['output_type'] = 'display_data';\n",
              "          await google.colab.output.renderOutput(dataTable, element);\n",
              "          const docLink = document.createElement('div');\n",
              "          docLink.innerHTML = docLinkHtml;\n",
              "          element.appendChild(docLink);\n",
              "        }\n",
              "      </script>\n",
              "    </div>\n",
              "  </div>\n",
              "  "
            ]
          },
          "metadata": {},
          "execution_count": 24
        }
      ]
    },
    {
      "cell_type": "markdown",
      "source": [
        "Target RMSE"
      ],
      "metadata": {
        "id": "F5XzNKg-7w4Z"
      }
    },
    {
      "cell_type": "code",
      "source": [
        "df['Time from Pickup to Arrival'].mean() * 0.1"
      ],
      "metadata": {
        "colab": {
          "base_uri": "https://localhost:8080/"
        },
        "id": "49Dnjgcs7uKE",
        "outputId": "87cb754e-011b-492a-b1d8-3998e14cbf8e"
      },
      "execution_count": 68,
      "outputs": [
        {
          "output_type": "execute_result",
          "data": {
            "text/plain": [
              "155.69209471251358"
            ]
          },
          "metadata": {},
          "execution_count": 68
        }
      ]
    },
    {
      "cell_type": "markdown",
      "source": [
        "## Base Model: ensemble regressor"
      ],
      "metadata": {
        "id": "vY3oDaYoCdOM"
      }
    },
    {
      "cell_type": "markdown",
      "source": [
        "Encode categorical features"
      ],
      "metadata": {
        "id": "5bcibHjhM1DV"
      }
    },
    {
      "cell_type": "code",
      "source": [
        "#split data\n",
        "X = df.drop(['Time from Pickup to Arrival'], axis=1)\n",
        "Y = df['Time from Pickup to Arrival']\n",
        "\n",
        "X_train, X_test, Y_train, Y_test = train_test_split(X, Y, test_size=.2, random_state=0)"
      ],
      "metadata": {
        "id": "HX4d7PuOL85R"
      },
      "execution_count": null,
      "outputs": []
    },
    {
      "cell_type": "code",
      "source": [
        "# the model \n",
        "base_regressor = RandomForestRegressor(n_estimators = 10, random_state = 12345)"
      ],
      "metadata": {
        "id": "BgBMWQ4BC9ZS"
      },
      "execution_count": null,
      "outputs": []
    },
    {
      "cell_type": "code",
      "source": [
        "# fit the model\n",
        "base_regressor.fit(X_train, Y_train)"
      ],
      "metadata": {
        "colab": {
          "base_uri": "https://localhost:8080/"
        },
        "id": "mcVqgomUMLZT",
        "outputId": "98268310-3ed9-4a38-916b-f1c70dd95c8b"
      },
      "execution_count": null,
      "outputs": [
        {
          "output_type": "execute_result",
          "data": {
            "text/plain": [
              "RandomForestRegressor(n_estimators=10, random_state=12345)"
            ]
          },
          "metadata": {},
          "execution_count": 27
        }
      ]
    },
    {
      "cell_type": "code",
      "source": [
        "# predict\n",
        "predictions = base_regressor.predict(X_test)"
      ],
      "metadata": {
        "id": "_R1Ub7YG8a7e"
      },
      "execution_count": null,
      "outputs": []
    },
    {
      "cell_type": "code",
      "source": [
        "print('RMSE:', np.sqrt(mean_squared_error(Y_test, predictions)))"
      ],
      "metadata": {
        "colab": {
          "base_uri": "https://localhost:8080/"
        },
        "id": "0SnG7JcK8pcb",
        "outputId": "701a3ad1-76b6-42a3-bfe7-104517b4940a"
      },
      "execution_count": null,
      "outputs": [
        {
          "output_type": "stream",
          "name": "stdout",
          "text": [
            "RMSE: 548.0882766104316\n"
          ]
        }
      ]
    },
    {
      "cell_type": "markdown",
      "source": [
        "## Model Improvement"
      ],
      "metadata": {
        "id": "ygGzvc8bB4Mg"
      }
    },
    {
      "cell_type": "markdown",
      "source": [
        "### Feature scaling"
      ],
      "metadata": {
        "id": "bDM31DIvAvot"
      }
    },
    {
      "cell_type": "markdown",
      "source": [
        "Modeling with only normalisation"
      ],
      "metadata": {
        "id": "gnqXphwCA053"
      }
    },
    {
      "cell_type": "code",
      "source": [
        "norm = MinMaxScaler().fit(X_train) \n",
        "X_train_normed = norm.transform(X_train) \n",
        "X_test_normed = norm.transform(X_test)"
      ],
      "metadata": {
        "id": "Y7BKB-Gp-Cga"
      },
      "execution_count": null,
      "outputs": []
    },
    {
      "cell_type": "code",
      "source": [
        "# fit the model\n",
        "regressor_with_norm = RandomForestRegressor(n_estimators = 10, random_state = 12345)\n",
        "regressor_with_norm.fit(X_train_normed, Y_train)"
      ],
      "metadata": {
        "colab": {
          "base_uri": "https://localhost:8080/"
        },
        "id": "xifb1yH5-PXo",
        "outputId": "03134621-76e6-47c7-a144-08dc05bb3510"
      },
      "execution_count": null,
      "outputs": [
        {
          "output_type": "execute_result",
          "data": {
            "text/plain": [
              "RandomForestRegressor(n_estimators=10, random_state=12345)"
            ]
          },
          "metadata": {},
          "execution_count": 31
        }
      ]
    },
    {
      "cell_type": "code",
      "source": [
        "# predict\n",
        "predictions_with_norm = regressor_with_norm.predict(X_test_normed)"
      ],
      "metadata": {
        "id": "7Vjw530B-QJy"
      },
      "execution_count": null,
      "outputs": []
    },
    {
      "cell_type": "code",
      "source": [
        "print('RMSE:', np.sqrt(mean_squared_error(Y_test, predictions_with_norm)))"
      ],
      "metadata": {
        "colab": {
          "base_uri": "https://localhost:8080/"
        },
        "id": "TZ5HxITm-SBw",
        "outputId": "1d425b8a-3785-4ad5-9873-6d2066196ec1"
      },
      "execution_count": null,
      "outputs": [
        {
          "output_type": "stream",
          "name": "stdout",
          "text": [
            "RMSE: 546.0850642671926\n"
          ]
        }
      ]
    },
    {
      "cell_type": "markdown",
      "source": [
        "Modeling with standardisation"
      ],
      "metadata": {
        "id": "Mbun33jQA13U"
      }
    },
    {
      "cell_type": "code",
      "source": [
        "scaler = StandardScaler() \n",
        "X_train_scaled = scaler.fit_transform(X_train)\n",
        "X_test_scaled = scaler.fit_transform(X_test)"
      ],
      "metadata": {
        "id": "GJG8vJY3-tAQ"
      },
      "execution_count": null,
      "outputs": []
    },
    {
      "cell_type": "code",
      "source": [
        "# fit the model\n",
        "regressor_with_sc = RandomForestRegressor(n_estimators = 10, random_state = 12345)\n",
        "regressor_with_sc.fit(X_train_scaled, Y_train)"
      ],
      "metadata": {
        "colab": {
          "base_uri": "https://localhost:8080/"
        },
        "id": "S2INvUj1-2d2",
        "outputId": "562d74a4-607b-4fad-ca5f-0e416cc5fc92"
      },
      "execution_count": null,
      "outputs": [
        {
          "output_type": "execute_result",
          "data": {
            "text/plain": [
              "RandomForestRegressor(n_estimators=10, random_state=12345)"
            ]
          },
          "metadata": {},
          "execution_count": 35
        }
      ]
    },
    {
      "cell_type": "code",
      "source": [
        "# predict\n",
        "predictions_with_sc = regressor_with_sc.predict(X_test_scaled)"
      ],
      "metadata": {
        "id": "j51qpU7I-4ze"
      },
      "execution_count": null,
      "outputs": []
    },
    {
      "cell_type": "code",
      "source": [
        "print('RMSE:', np.sqrt(mean_squared_error(Y_test, predictions_with_sc)))"
      ],
      "metadata": {
        "colab": {
          "base_uri": "https://localhost:8080/"
        },
        "id": "1q3OS2yW-953",
        "outputId": "e517995b-7b38-47ac-f8cf-d0dd885305f5"
      },
      "execution_count": null,
      "outputs": [
        {
          "output_type": "stream",
          "name": "stdout",
          "text": [
            "RMSE: 547.0538222752199\n"
          ]
        }
      ]
    },
    {
      "cell_type": "markdown",
      "source": [
        "Observation: scaling improves the RMSE slighly"
      ],
      "metadata": {
        "id": "Tr11NyyrNZoS"
      }
    },
    {
      "cell_type": "markdown",
      "source": [
        "### Feature Selection"
      ],
      "metadata": {
        "id": "C7u4pMYLDtav"
      }
    },
    {
      "cell_type": "markdown",
      "source": [
        "##### Wrapper Method: Step Forward Feature Selection"
      ],
      "metadata": {
        "id": "i5lshm7vA6t5"
      }
    },
    {
      "cell_type": "code",
      "source": [
        "# split data\n",
        "X = df.drop(['Time from Pickup to Arrival'], axis=1)\n",
        "Y = df['Time from Pickup to Arrival']\n",
        "\n",
        "X_train, X_test, Y_train, Y_test = train_test_split(X, Y, test_size=.2, random_state=0)\n",
        "\n",
        "# normalization\n",
        "norm = MinMaxScaler().fit(X_train) \n",
        "X_train_normed = norm.transform(X_train) \n",
        "X_test_normed = norm.transform(X_test)"
      ],
      "metadata": {
        "id": "ThaAQ0EYB-YX"
      },
      "execution_count": null,
      "outputs": []
    },
    {
      "cell_type": "code",
      "source": [
        "# modelling, we'll use the normalised data\n",
        "\n",
        "sf_regressor = RandomForestRegressor(n_estimators = 10, random_state = 12345)\n",
        "\n",
        "# We pass the regressor the estimator to the SequentialFeatureSelector function. \n",
        "# k_features specifies the number of features to select. \n",
        "# forward parameter, if set to True, performs step forward feature selection. \n",
        "# verbose parameter is used for logging the progress of the feature selector\n",
        "# scoring parameter defines the performance evaluation criteria \n",
        "# cv refers to cross-validation folds.\n",
        "\n",
        "sf_feature_selector = SequentialFeatureSelector(sf_regressor,\n",
        "           k_features=20,\n",
        "           forward=True,\n",
        "           verbose=2,\n",
        "           scoring='r2',\n",
        "           cv=4)\n",
        " \n",
        "# Perform step forward feature selection\n",
        "sf_feature_selector = sf_feature_selector.fit(X_train_normed, Y_train)"
      ],
      "metadata": {
        "colab": {
          "base_uri": "https://localhost:8080/"
        },
        "id": "1Coxj6ZqQoL_",
        "outputId": "16b2f685-996b-47f9-fd53-0c385a2b796f"
      },
      "execution_count": null,
      "outputs": [
        {
          "output_type": "stream",
          "name": "stderr",
          "text": [
            "[Parallel(n_jobs=1)]: Using backend SequentialBackend with 1 concurrent workers.\n",
            "[Parallel(n_jobs=1)]: Done   1 out of   1 | elapsed:    0.1s remaining:    0.0s\n",
            "[Parallel(n_jobs=1)]: Done  23 out of  23 | elapsed:   12.4s finished\n",
            "\n",
            "[2022-08-02 12:26:36] Features: 1/20 -- score: 0.3442037719100365[Parallel(n_jobs=1)]: Using backend SequentialBackend with 1 concurrent workers.\n",
            "[Parallel(n_jobs=1)]: Done   1 out of   1 | elapsed:    0.5s remaining:    0.0s\n",
            "[Parallel(n_jobs=1)]: Done  22 out of  22 | elapsed:   12.7s finished\n",
            "\n",
            "[2022-08-02 12:26:49] Features: 2/20 -- score: 0.34284050006761724[Parallel(n_jobs=1)]: Using backend SequentialBackend with 1 concurrent workers.\n",
            "[Parallel(n_jobs=1)]: Done   1 out of   1 | elapsed:    0.2s remaining:    0.0s\n",
            "[Parallel(n_jobs=1)]: Done  21 out of  21 | elapsed:   11.3s finished\n",
            "\n",
            "[2022-08-02 12:27:00] Features: 3/20 -- score: 0.3369269304430071[Parallel(n_jobs=1)]: Using backend SequentialBackend with 1 concurrent workers.\n",
            "[Parallel(n_jobs=1)]: Done   1 out of   1 | elapsed:    0.4s remaining:    0.0s\n",
            "[Parallel(n_jobs=1)]: Done  20 out of  20 | elapsed:   12.4s finished\n",
            "\n",
            "[2022-08-02 12:27:12] Features: 4/20 -- score: 0.3137204458482674[Parallel(n_jobs=1)]: Using backend SequentialBackend with 1 concurrent workers.\n",
            "[Parallel(n_jobs=1)]: Done   1 out of   1 | elapsed:    0.7s remaining:    0.0s\n",
            "[Parallel(n_jobs=1)]: Done  19 out of  19 | elapsed:   15.5s finished\n",
            "\n",
            "[2022-08-02 12:27:28] Features: 5/20 -- score: 0.3137060876656657[Parallel(n_jobs=1)]: Using backend SequentialBackend with 1 concurrent workers.\n",
            "[Parallel(n_jobs=1)]: Done   1 out of   1 | elapsed:    0.8s remaining:    0.0s\n",
            "[Parallel(n_jobs=1)]: Done  18 out of  18 | elapsed:   16.7s finished\n",
            "\n",
            "[2022-08-02 12:27:45] Features: 6/20 -- score: 0.31328036393462255[Parallel(n_jobs=1)]: Using backend SequentialBackend with 1 concurrent workers.\n",
            "[Parallel(n_jobs=1)]: Done   1 out of   1 | elapsed:    0.8s remaining:    0.0s\n",
            "[Parallel(n_jobs=1)]: Done  17 out of  17 | elapsed:   17.7s finished\n",
            "\n",
            "[2022-08-02 12:28:02] Features: 7/20 -- score: 0.31352443970500243[Parallel(n_jobs=1)]: Using backend SequentialBackend with 1 concurrent workers.\n",
            "[Parallel(n_jobs=1)]: Done   1 out of   1 | elapsed:    0.9s remaining:    0.0s\n",
            "[Parallel(n_jobs=1)]: Done  16 out of  16 | elapsed:   18.9s finished\n",
            "\n",
            "[2022-08-02 12:28:21] Features: 8/20 -- score: 0.313427393935312[Parallel(n_jobs=1)]: Using backend SequentialBackend with 1 concurrent workers.\n",
            "[Parallel(n_jobs=1)]: Done   1 out of   1 | elapsed:    0.9s remaining:    0.0s\n",
            "[Parallel(n_jobs=1)]: Done  15 out of  15 | elapsed:   19.2s finished\n",
            "\n",
            "[2022-08-02 12:28:40] Features: 9/20 -- score: 0.2196948302349743[Parallel(n_jobs=1)]: Using backend SequentialBackend with 1 concurrent workers.\n",
            "[Parallel(n_jobs=1)]: Done   1 out of   1 | elapsed:    1.7s remaining:    0.0s\n",
            "[Parallel(n_jobs=1)]: Done  14 out of  14 | elapsed:   25.6s finished\n",
            "\n",
            "[2022-08-02 12:29:06] Features: 10/20 -- score: 0.24670876687076435[Parallel(n_jobs=1)]: Using backend SequentialBackend with 1 concurrent workers.\n",
            "[Parallel(n_jobs=1)]: Done   1 out of   1 | elapsed:    2.4s remaining:    0.0s\n",
            "[Parallel(n_jobs=1)]: Done  13 out of  13 | elapsed:   32.5s finished\n",
            "\n",
            "[2022-08-02 12:29:38] Features: 11/20 -- score: 0.8381274772224627[Parallel(n_jobs=1)]: Using backend SequentialBackend with 1 concurrent workers.\n",
            "[Parallel(n_jobs=1)]: Done   1 out of   1 | elapsed:    3.0s remaining:    0.0s\n",
            "[Parallel(n_jobs=1)]: Done  12 out of  12 | elapsed:   37.9s finished\n",
            "\n",
            "[2022-08-02 12:30:16] Features: 12/20 -- score: 0.8271647834648269[Parallel(n_jobs=1)]: Using backend SequentialBackend with 1 concurrent workers.\n",
            "[Parallel(n_jobs=1)]: Done   1 out of   1 | elapsed:    3.5s remaining:    0.0s\n",
            "[Parallel(n_jobs=1)]: Done  11 out of  11 | elapsed:   39.5s finished\n",
            "\n",
            "[2022-08-02 12:30:56] Features: 13/20 -- score: 0.817057615494265[Parallel(n_jobs=1)]: Using backend SequentialBackend with 1 concurrent workers.\n",
            "[Parallel(n_jobs=1)]: Done   1 out of   1 | elapsed:    4.0s remaining:    0.0s\n",
            "[Parallel(n_jobs=1)]: Done  10 out of  10 | elapsed:   40.7s finished\n",
            "\n",
            "[2022-08-02 12:31:36] Features: 14/20 -- score: 0.8099984699099201[Parallel(n_jobs=1)]: Using backend SequentialBackend with 1 concurrent workers.\n",
            "[Parallel(n_jobs=1)]: Done   1 out of   1 | elapsed:    4.5s remaining:    0.0s\n",
            "[Parallel(n_jobs=1)]: Done   9 out of   9 | elapsed:   40.7s finished\n",
            "\n",
            "[2022-08-02 12:32:17] Features: 15/20 -- score: 0.7884833207992401[Parallel(n_jobs=1)]: Using backend SequentialBackend with 1 concurrent workers.\n",
            "[Parallel(n_jobs=1)]: Done   1 out of   1 | elapsed:    4.9s remaining:    0.0s\n",
            "[Parallel(n_jobs=1)]: Done   8 out of   8 | elapsed:   39.4s finished\n",
            "\n",
            "[2022-08-02 12:32:57] Features: 16/20 -- score: 0.7690331604151892[Parallel(n_jobs=1)]: Using backend SequentialBackend with 1 concurrent workers.\n",
            "[Parallel(n_jobs=1)]: Done   1 out of   1 | elapsed:    5.2s remaining:    0.0s\n",
            "[Parallel(n_jobs=1)]: Done   7 out of   7 | elapsed:   36.4s finished\n",
            "\n",
            "[2022-08-02 12:33:33] Features: 17/20 -- score: 0.7680000017325934[Parallel(n_jobs=1)]: Using backend SequentialBackend with 1 concurrent workers.\n",
            "[Parallel(n_jobs=1)]: Done   1 out of   1 | elapsed:    5.4s remaining:    0.0s\n",
            "[Parallel(n_jobs=1)]: Done   6 out of   6 | elapsed:   32.8s finished\n",
            "\n",
            "[2022-08-02 12:34:06] Features: 18/20 -- score: 0.7678281377178624[Parallel(n_jobs=1)]: Using backend SequentialBackend with 1 concurrent workers.\n",
            "[Parallel(n_jobs=1)]: Done   1 out of   1 | elapsed:    5.7s remaining:    0.0s\n",
            "[Parallel(n_jobs=1)]: Done   5 out of   5 | elapsed:   28.7s finished\n",
            "\n",
            "[2022-08-02 12:34:34] Features: 19/20 -- score: 0.7679640753744321[Parallel(n_jobs=1)]: Using backend SequentialBackend with 1 concurrent workers.\n",
            "[Parallel(n_jobs=1)]: Done   1 out of   1 | elapsed:    5.9s remaining:    0.0s\n",
            "[Parallel(n_jobs=1)]: Done   4 out of   4 | elapsed:   24.0s finished\n",
            "\n",
            "[2022-08-02 12:34:58] Features: 20/20 -- score: 0.7667672917076378"
          ]
        }
      ]
    },
    {
      "cell_type": "code",
      "source": [
        "# the selected features\n",
        "\n",
        "sf_feat_cols = list(sf_feature_selector.k_feature_idx_)\n",
        "print(sf_feat_cols)"
      ],
      "metadata": {
        "colab": {
          "base_uri": "https://localhost:8080/"
        },
        "id": "UaMvPLliWC8F",
        "outputId": "43c449f2-1719-4400-a81c-0ceb3dd7cbb7"
      },
      "execution_count": null,
      "outputs": [
        {
          "output_type": "stream",
          "name": "stdout",
          "text": [
            "[0, 1, 2, 3, 4, 5, 6, 7, 8, 9, 10, 11, 12, 13, 14, 15, 16, 17, 18, 19]\n"
          ]
        }
      ]
    },
    {
      "cell_type": "code",
      "source": [
        "# modelling with step forward feature selection\n",
        "regressor_with_sffs = RandomForestRegressor(n_estimators = 10, random_state = 12345)\n",
        "regressor_with_sffs.fit(X_train_normed[:, sf_feat_cols], Y_train)\n",
        "\n",
        "# Making Predictions and determining the accuracies\n",
        "sffs_predictions = regressor_with_sffs.predict(X_test_normed[:, sf_feat_cols])\n",
        "print('RMSE With sffs:', np.sqrt(mean_squared_error(Y_test, sffs_predictions)))"
      ],
      "metadata": {
        "colab": {
          "base_uri": "https://localhost:8080/"
        },
        "id": "dF5Dps5CWg1b",
        "outputId": "180de3cd-95aa-47cb-ee86-4932a4cc5639"
      },
      "execution_count": null,
      "outputs": [
        {
          "output_type": "stream",
          "name": "stdout",
          "text": [
            "RMSE With sffs: 425.9848291836782\n"
          ]
        }
      ]
    },
    {
      "cell_type": "markdown",
      "source": [
        "Observation: our RMSE improves from the original 548 to 425"
      ],
      "metadata": {
        "id": "ThWr7vJoel5V"
      }
    },
    {
      "cell_type": "markdown",
      "source": [
        "##### Wrapper Method: Step Backward Feature Selection"
      ],
      "metadata": {
        "id": "IoexCiuEMHE0"
      }
    },
    {
      "cell_type": "code",
      "source": [
        "# split data\n",
        "X = df.drop(['Time from Pickup to Arrival'], axis=1)\n",
        "Y = df['Time from Pickup to Arrival']\n",
        "\n",
        "X_train, X_test, Y_train, Y_test = train_test_split(X, Y, test_size=.2, random_state=0)\n",
        "\n",
        "# normalization\n",
        "norm = MinMaxScaler().fit(X_train) \n",
        "X_train_normed = norm.transform(X_train) \n",
        "X_test_normed = norm.transform(X_test)"
      ],
      "metadata": {
        "id": "4-xZJhkiCK7G"
      },
      "execution_count": null,
      "outputs": []
    },
    {
      "cell_type": "code",
      "source": [
        "# Modelling, we'll use the normalised data\n",
        "\n",
        "sb_regressor = RandomForestRegressor(n_estimators = 10, random_state = 12345)\n",
        "\n",
        "# We pass the regressor the estimator to the SequentialFeatureSelector function. \n",
        "# k_features specifies the number of features to select. \n",
        "# forward parameter, if set to True, performs step forward feature selection. \n",
        "# verbose parameter is used for logging the progress of the feature selector\n",
        "# scoring parameter defines the performance evaluation criteria \n",
        "# cv refers to cross-validation folds.\n",
        "\n",
        "sb_feature_selector = SequentialFeatureSelector(sb_regressor,\n",
        "           k_features=20,\n",
        "           forward=False,\n",
        "           verbose=2,\n",
        "           scoring='r2',\n",
        "           cv=4)\n",
        " \n",
        "# Perform step backward feature selection\n",
        "sb_feature_selector = sb_feature_selector.fit(X_train_normed, Y_train)"
      ],
      "metadata": {
        "colab": {
          "base_uri": "https://localhost:8080/"
        },
        "id": "MgqydiJKUFlT",
        "outputId": "819bf847-4dee-4ed5-9db0-263469e2ac5d"
      },
      "execution_count": null,
      "outputs": [
        {
          "output_type": "stream",
          "name": "stderr",
          "text": [
            "[Parallel(n_jobs=1)]: Using backend SequentialBackend with 1 concurrent workers.\n",
            "[Parallel(n_jobs=1)]: Done   1 out of   1 | elapsed:    6.7s remaining:    0.0s\n",
            "[Parallel(n_jobs=1)]: Done  23 out of  23 | elapsed:  2.6min finished\n",
            "\n",
            "[2022-08-02 12:43:59] Features: 22/20 -- score: 0.6813925934046008[Parallel(n_jobs=1)]: Using backend SequentialBackend with 1 concurrent workers.\n",
            "[Parallel(n_jobs=1)]: Done   1 out of   1 | elapsed:    6.3s remaining:    0.0s\n",
            "[Parallel(n_jobs=1)]: Done  22 out of  22 | elapsed:  2.4min finished\n",
            "\n",
            "[2022-08-02 12:46:21] Features: 21/20 -- score: 0.7215913114718059[Parallel(n_jobs=1)]: Using backend SequentialBackend with 1 concurrent workers.\n",
            "[Parallel(n_jobs=1)]: Done   1 out of   1 | elapsed:    6.0s remaining:    0.0s\n",
            "[Parallel(n_jobs=1)]: Done  21 out of  21 | elapsed:  2.1min finished\n",
            "\n",
            "[2022-08-02 12:48:28] Features: 20/20 -- score: 0.8539239273640011"
          ]
        }
      ]
    },
    {
      "cell_type": "code",
      "source": [
        "# the selected features\n",
        "\n",
        "sb_feat_cols = list(sb_feature_selector.k_feature_idx_)\n",
        "print(sb_feat_cols)"
      ],
      "metadata": {
        "colab": {
          "base_uri": "https://localhost:8080/"
        },
        "id": "jqOWUYfUe7Rs",
        "outputId": "70b4223f-cb17-4706-fe84-9373beea4f0d"
      },
      "execution_count": null,
      "outputs": [
        {
          "output_type": "stream",
          "name": "stdout",
          "text": [
            "[0, 1, 2, 3, 4, 5, 6, 7, 8, 9, 10, 11, 12, 13, 14, 15, 16, 18, 19, 20]\n"
          ]
        }
      ]
    },
    {
      "cell_type": "code",
      "source": [
        "# modelling with step backward feature selection\n",
        "regressor_with_sbfs = RandomForestRegressor(n_estimators = 10, random_state = 12345)\n",
        "regressor_with_sbfs.fit(X_train_normed[:, sb_feat_cols], Y_train)\n",
        "\n",
        "# Making Predictions and determining the accuracies\n",
        "sbfs_predictions = regressor_with_sbfs.predict(X_test_normed[:, sb_feat_cols])\n",
        "print('RMSE With sbfs:', np.sqrt(mean_squared_error(Y_test, sbfs_predictions)))"
      ],
      "metadata": {
        "colab": {
          "base_uri": "https://localhost:8080/"
        },
        "id": "6Kox7Kt5fGXY",
        "outputId": "155b67ee-846d-4642-83ea-3c8a3e789ff9"
      },
      "execution_count": null,
      "outputs": [
        {
          "output_type": "stream",
          "name": "stdout",
          "text": [
            "RMSE With sbfs: 338.9262916190953\n"
          ]
        }
      ]
    },
    {
      "cell_type": "markdown",
      "source": [
        "Observation: our RMSE improves from the original 548 to 338"
      ],
      "metadata": {
        "id": "MppE7Wd7j7XO"
      }
    },
    {
      "cell_type": "markdown",
      "source": [
        "##### Wrapper Method: Recursive Feature Elimination"
      ],
      "metadata": {
        "id": "r7OAmKc7MNoc"
      }
    },
    {
      "cell_type": "code",
      "source": [
        "# split data\n",
        "X = df.drop(['Time from Pickup to Arrival'], axis=1)\n",
        "Y = df['Time from Pickup to Arrival']\n",
        "\n",
        "X_train, X_test, Y_train, Y_test = train_test_split(X, Y, test_size=.2, random_state=0)\n",
        "\n",
        "# normalization\n",
        "norm = MinMaxScaler().fit(X_train) \n",
        "X_train_normed = norm.transform(X_train) \n",
        "X_test_normed = norm.transform(X_test)"
      ],
      "metadata": {
        "id": "JsWHQ0g5CQiJ"
      },
      "execution_count": null,
      "outputs": []
    },
    {
      "cell_type": "code",
      "source": [
        "# We want to select the best 20 features for our model. \n",
        "# NB: n_features_to_select will include the response variable\n",
        "\n",
        "rfe_regressor = RandomForestRegressor(n_estimators = 10, random_state = 12345)\n",
        "\n",
        "rfe_regressor = RFE(rfe_regressor, n_features_to_select = 20, step=1)\n",
        "\n",
        "rfe_regressor.fit(X_train_normed, Y_train) \n",
        "\n",
        "# Make Predictions  \n",
        "rfe_y_pred = rfe_regressor.predict(X_test_normed)\n",
        "\n",
        "# Finally, evaluate our model  \n",
        "print('RMSE with RFE:', np.sqrt(mean_squared_error(Y_test, rfe_y_pred)))\n",
        "\n",
        "# Displaying our best features\n",
        "print('RFE Selected features: %s' % list(X.columns[rfe_regressor.support_]))"
      ],
      "metadata": {
        "colab": {
          "base_uri": "https://localhost:8080/"
        },
        "id": "aQJyoo15geFi",
        "outputId": "8d47ee8a-7605-4c14-928e-d11a7dffce1b"
      },
      "execution_count": null,
      "outputs": [
        {
          "output_type": "stream",
          "name": "stdout",
          "text": [
            "RMSE with RFE: 546.3869357498613\n",
            "RFE Selected features: ['Placement - Day of Month', 'Placement - Time', 'Confirmation - Day of Month', 'Confirmation - Weekday (Mo = 1)', 'Confirmation - Time', 'Arrival at Pickup - Day of Month', 'Arrival at Pickup - Weekday (Mo = 1)', 'Arrival at Pickup - Time', 'Pickup - Day of Month', 'Pickup - Weekday (Mo = 1)', 'Pickup - Time', 'Arrival at Destination - Day of Month', 'Arrival at Destination - Weekday (Mo = 1)', 'Arrival at Destination - Time', 'Distance (KM)', 'Temperature', 'Pickup Lat', 'Pickup Long', 'Destination Lat', 'Destination Long']\n"
          ]
        }
      ]
    },
    {
      "cell_type": "markdown",
      "source": [
        "Observation: our RMSE improves slightly from the original 548 to 546"
      ],
      "metadata": {
        "id": "rctl9DJ_kUbe"
      }
    },
    {
      "cell_type": "markdown",
      "source": [
        "##### Feature Transformation: Principal Component Analysis"
      ],
      "metadata": {
        "id": "Mzx-lkm7Mnhe"
      }
    },
    {
      "cell_type": "code",
      "source": [
        "# split data\n",
        "X = df.drop(['Time from Pickup to Arrival'], axis=1)\n",
        "Y = df['Time from Pickup to Arrival']\n",
        "\n",
        "X_train, X_test, Y_train, Y_test = train_test_split(X, Y, test_size=.2, random_state=0)\n",
        "\n",
        "# normalization\n",
        "norm = MinMaxScaler().fit(X_train) \n",
        "X_train_normed = norm.transform(X_train) \n",
        "X_test_normed = norm.transform(X_test)"
      ],
      "metadata": {
        "id": "0z8xetqhDDeH"
      },
      "execution_count": null,
      "outputs": []
    },
    {
      "cell_type": "code",
      "source": [
        "# Apply PCA\n",
        "\n",
        "pca = PCA()\n",
        "X_train_ = pca.fit_transform(X_train_normed)\n",
        "X_test_ = pca.transform(X_test_normed)\n",
        "\n",
        "regressor_with_pca = RandomForestRegressor(n_estimators = 10, random_state = 12345)\n",
        "regressor_with_pca.fit(X_train_, Y_train)\n",
        "\n",
        "pca_y_pred = regressor_with_pca.predict(X_test_)\n",
        "\n",
        "# Finally, evaluate our model  \n",
        "print('RMSE with PCA:', np.sqrt(mean_squared_error(Y_test, pca_y_pred)))"
      ],
      "metadata": {
        "colab": {
          "base_uri": "https://localhost:8080/"
        },
        "id": "EdAtPvTCknXx",
        "outputId": "c2687655-9a9b-4494-dc60-4725a3a1b5f7"
      },
      "execution_count": null,
      "outputs": [
        {
          "output_type": "stream",
          "name": "stdout",
          "text": [
            "RMSE with PCA: 410.51916925219047\n"
          ]
        }
      ]
    },
    {
      "cell_type": "markdown",
      "source": [
        "Observation: our RMSE improves from the original 548 to 410"
      ],
      "metadata": {
        "id": "s_1UKGnZujY7"
      }
    },
    {
      "cell_type": "markdown",
      "source": [
        "##### Feature Transformation: Linear Discriminant Analysis"
      ],
      "metadata": {
        "id": "Hba5CkdZMW9I"
      }
    },
    {
      "cell_type": "code",
      "source": [
        "# split data\n",
        "X = df.drop(['Time from Pickup to Arrival'], axis=1)\n",
        "Y = df['Time from Pickup to Arrival']\n",
        "\n",
        "X_train, X_test, Y_train, Y_test = train_test_split(X, Y, test_size=.2, random_state=0)\n",
        "\n",
        "# normalization\n",
        "norm = MinMaxScaler().fit(X_train) \n",
        "X_train_normed = norm.transform(X_train) \n",
        "X_test_normed = norm.transform(X_test)"
      ],
      "metadata": {
        "id": "82TsZ6I_DMEv"
      },
      "execution_count": null,
      "outputs": []
    },
    {
      "cell_type": "code",
      "source": [
        "clf = LinearDiscriminantAnalysis()\n",
        "clf.fit(X_train_normed, Y_train)\n",
        "clf_predictions = clf.predict(X_test_normed)\n",
        "\n",
        "#evaluate our model  \n",
        "print('RMSE with Linear Discriminant Analysis:', np.sqrt(mean_squared_error(Y_test, clf_predictions)))"
      ],
      "metadata": {
        "colab": {
          "base_uri": "https://localhost:8080/"
        },
        "id": "sOSDSoJFA8PZ",
        "outputId": "fa3fd575-8022-4d48-c24d-1365ffe1ee2d"
      },
      "execution_count": null,
      "outputs": [
        {
          "output_type": "stream",
          "name": "stdout",
          "text": [
            "RMSE with Linear Discriminant Analysis: 634.2949788975607\n"
          ]
        }
      ]
    },
    {
      "cell_type": "markdown",
      "source": [
        "Our RMSE just got worse"
      ],
      "metadata": {
        "id": "z62_oFLDn4_h"
      }
    },
    {
      "cell_type": "markdown",
      "source": [
        "Observation\n",
        "> Of all the feature selection methods, step backward feauture selection produced the best RMSE of 338."
      ],
      "metadata": {
        "id": "Bo4Hd6yxoFJv"
      }
    },
    {
      "cell_type": "markdown",
      "source": [
        "### Feature construction"
      ],
      "metadata": {
        "id": "o5jRNh2DDpH-"
      }
    },
    {
      "cell_type": "code",
      "source": [
        "# preview data\n",
        "df.sample(3)"
      ],
      "metadata": {
        "colab": {
          "base_uri": "https://localhost:8080/",
          "height": 294
        },
        "id": "x3RuqbTO4DNM",
        "outputId": "448f1174-d1ee-4ddc-be5e-b0305a455b73"
      },
      "execution_count": null,
      "outputs": [
        {
          "output_type": "execute_result",
          "data": {
            "text/plain": [
              "       Platform Type  Personal or Business  Placement - Day of Month  \\\n",
              "6472               3                     0                        25   \n",
              "5797               3                     0                         2   \n",
              "10383              3                     0                        13   \n",
              "\n",
              "       Placement - Weekday (Mo = 1) Placement - Time  \\\n",
              "6472                              1           150919   \n",
              "5797                              3           150125   \n",
              "10383                             4           093658   \n",
              "\n",
              "       Confirmation - Day of Month  Confirmation - Weekday (Mo = 1)  \\\n",
              "6472                            25                                1   \n",
              "5797                             2                                3   \n",
              "10383                           13                                4   \n",
              "\n",
              "      Confirmation - Time  Arrival at Pickup - Day of Month  \\\n",
              "6472               151059                                25   \n",
              "5797               150304                                 2   \n",
              "10383              093714                                13   \n",
              "\n",
              "       Arrival at Pickup - Weekday (Mo = 1) Arrival at Pickup - Time  \\\n",
              "6472                                      1                   153855   \n",
              "5797                                      3                   150732   \n",
              "10383                                     4                   093801   \n",
              "\n",
              "       Pickup - Day of Month  Pickup - Weekday (Mo = 1) Pickup - Time  \\\n",
              "6472                      25                          1        164842   \n",
              "5797                       2                          3        154055   \n",
              "10383                     13                          4        095151   \n",
              "\n",
              "       Arrival at Destination - Day of Month  \\\n",
              "6472                                      25   \n",
              "5797                                       2   \n",
              "10383                                     13   \n",
              "\n",
              "       Arrival at Destination - Weekday (Mo = 1)  \\\n",
              "6472                                           1   \n",
              "5797                                           3   \n",
              "10383                                          4   \n",
              "\n",
              "      Arrival at Destination - Time  Distance (KM)  Temperature  Pickup Lat  \\\n",
              "6472                         170047              4         27.3   -1.316711   \n",
              "5797                         163726              7         26.1   -1.259956   \n",
              "10383                        101209             17         18.5   -1.307726   \n",
              "\n",
              "       Pickup Long  Destination Lat  Destination Long  \\\n",
              "6472     36.830156        -1.300406         36.829741   \n",
              "5797     36.799344        -1.301642         36.827168   \n",
              "10383    36.839117        -1.348394         36.907428   \n",
              "\n",
              "       Time from Pickup to Arrival  \n",
              "6472                           725  \n",
              "5797                          3391  \n",
              "10383                         1218  "
            ],
            "text/html": [
              "\n",
              "  <div id=\"df-0c05cd81-4b33-4002-8964-a598742e2ed1\">\n",
              "    <div class=\"colab-df-container\">\n",
              "      <div>\n",
              "<style scoped>\n",
              "    .dataframe tbody tr th:only-of-type {\n",
              "        vertical-align: middle;\n",
              "    }\n",
              "\n",
              "    .dataframe tbody tr th {\n",
              "        vertical-align: top;\n",
              "    }\n",
              "\n",
              "    .dataframe thead th {\n",
              "        text-align: right;\n",
              "    }\n",
              "</style>\n",
              "<table border=\"1\" class=\"dataframe\">\n",
              "  <thead>\n",
              "    <tr style=\"text-align: right;\">\n",
              "      <th></th>\n",
              "      <th>Platform Type</th>\n",
              "      <th>Personal or Business</th>\n",
              "      <th>Placement - Day of Month</th>\n",
              "      <th>Placement - Weekday (Mo = 1)</th>\n",
              "      <th>Placement - Time</th>\n",
              "      <th>Confirmation - Day of Month</th>\n",
              "      <th>Confirmation - Weekday (Mo = 1)</th>\n",
              "      <th>Confirmation - Time</th>\n",
              "      <th>Arrival at Pickup - Day of Month</th>\n",
              "      <th>Arrival at Pickup - Weekday (Mo = 1)</th>\n",
              "      <th>Arrival at Pickup - Time</th>\n",
              "      <th>Pickup - Day of Month</th>\n",
              "      <th>Pickup - Weekday (Mo = 1)</th>\n",
              "      <th>Pickup - Time</th>\n",
              "      <th>Arrival at Destination - Day of Month</th>\n",
              "      <th>Arrival at Destination - Weekday (Mo = 1)</th>\n",
              "      <th>Arrival at Destination - Time</th>\n",
              "      <th>Distance (KM)</th>\n",
              "      <th>Temperature</th>\n",
              "      <th>Pickup Lat</th>\n",
              "      <th>Pickup Long</th>\n",
              "      <th>Destination Lat</th>\n",
              "      <th>Destination Long</th>\n",
              "      <th>Time from Pickup to Arrival</th>\n",
              "    </tr>\n",
              "  </thead>\n",
              "  <tbody>\n",
              "    <tr>\n",
              "      <th>6472</th>\n",
              "      <td>3</td>\n",
              "      <td>0</td>\n",
              "      <td>25</td>\n",
              "      <td>1</td>\n",
              "      <td>150919</td>\n",
              "      <td>25</td>\n",
              "      <td>1</td>\n",
              "      <td>151059</td>\n",
              "      <td>25</td>\n",
              "      <td>1</td>\n",
              "      <td>153855</td>\n",
              "      <td>25</td>\n",
              "      <td>1</td>\n",
              "      <td>164842</td>\n",
              "      <td>25</td>\n",
              "      <td>1</td>\n",
              "      <td>170047</td>\n",
              "      <td>4</td>\n",
              "      <td>27.3</td>\n",
              "      <td>-1.316711</td>\n",
              "      <td>36.830156</td>\n",
              "      <td>-1.300406</td>\n",
              "      <td>36.829741</td>\n",
              "      <td>725</td>\n",
              "    </tr>\n",
              "    <tr>\n",
              "      <th>5797</th>\n",
              "      <td>3</td>\n",
              "      <td>0</td>\n",
              "      <td>2</td>\n",
              "      <td>3</td>\n",
              "      <td>150125</td>\n",
              "      <td>2</td>\n",
              "      <td>3</td>\n",
              "      <td>150304</td>\n",
              "      <td>2</td>\n",
              "      <td>3</td>\n",
              "      <td>150732</td>\n",
              "      <td>2</td>\n",
              "      <td>3</td>\n",
              "      <td>154055</td>\n",
              "      <td>2</td>\n",
              "      <td>3</td>\n",
              "      <td>163726</td>\n",
              "      <td>7</td>\n",
              "      <td>26.1</td>\n",
              "      <td>-1.259956</td>\n",
              "      <td>36.799344</td>\n",
              "      <td>-1.301642</td>\n",
              "      <td>36.827168</td>\n",
              "      <td>3391</td>\n",
              "    </tr>\n",
              "    <tr>\n",
              "      <th>10383</th>\n",
              "      <td>3</td>\n",
              "      <td>0</td>\n",
              "      <td>13</td>\n",
              "      <td>4</td>\n",
              "      <td>093658</td>\n",
              "      <td>13</td>\n",
              "      <td>4</td>\n",
              "      <td>093714</td>\n",
              "      <td>13</td>\n",
              "      <td>4</td>\n",
              "      <td>093801</td>\n",
              "      <td>13</td>\n",
              "      <td>4</td>\n",
              "      <td>095151</td>\n",
              "      <td>13</td>\n",
              "      <td>4</td>\n",
              "      <td>101209</td>\n",
              "      <td>17</td>\n",
              "      <td>18.5</td>\n",
              "      <td>-1.307726</td>\n",
              "      <td>36.839117</td>\n",
              "      <td>-1.348394</td>\n",
              "      <td>36.907428</td>\n",
              "      <td>1218</td>\n",
              "    </tr>\n",
              "  </tbody>\n",
              "</table>\n",
              "</div>\n",
              "      <button class=\"colab-df-convert\" onclick=\"convertToInteractive('df-0c05cd81-4b33-4002-8964-a598742e2ed1')\"\n",
              "              title=\"Convert this dataframe to an interactive table.\"\n",
              "              style=\"display:none;\">\n",
              "        \n",
              "  <svg xmlns=\"http://www.w3.org/2000/svg\" height=\"24px\"viewBox=\"0 0 24 24\"\n",
              "       width=\"24px\">\n",
              "    <path d=\"M0 0h24v24H0V0z\" fill=\"none\"/>\n",
              "    <path d=\"M18.56 5.44l.94 2.06.94-2.06 2.06-.94-2.06-.94-.94-2.06-.94 2.06-2.06.94zm-11 1L8.5 8.5l.94-2.06 2.06-.94-2.06-.94L8.5 2.5l-.94 2.06-2.06.94zm10 10l.94 2.06.94-2.06 2.06-.94-2.06-.94-.94-2.06-.94 2.06-2.06.94z\"/><path d=\"M17.41 7.96l-1.37-1.37c-.4-.4-.92-.59-1.43-.59-.52 0-1.04.2-1.43.59L10.3 9.45l-7.72 7.72c-.78.78-.78 2.05 0 2.83L4 21.41c.39.39.9.59 1.41.59.51 0 1.02-.2 1.41-.59l7.78-7.78 2.81-2.81c.8-.78.8-2.07 0-2.86zM5.41 20L4 18.59l7.72-7.72 1.47 1.35L5.41 20z\"/>\n",
              "  </svg>\n",
              "      </button>\n",
              "      \n",
              "  <style>\n",
              "    .colab-df-container {\n",
              "      display:flex;\n",
              "      flex-wrap:wrap;\n",
              "      gap: 12px;\n",
              "    }\n",
              "\n",
              "    .colab-df-convert {\n",
              "      background-color: #E8F0FE;\n",
              "      border: none;\n",
              "      border-radius: 50%;\n",
              "      cursor: pointer;\n",
              "      display: none;\n",
              "      fill: #1967D2;\n",
              "      height: 32px;\n",
              "      padding: 0 0 0 0;\n",
              "      width: 32px;\n",
              "    }\n",
              "\n",
              "    .colab-df-convert:hover {\n",
              "      background-color: #E2EBFA;\n",
              "      box-shadow: 0px 1px 2px rgba(60, 64, 67, 0.3), 0px 1px 3px 1px rgba(60, 64, 67, 0.15);\n",
              "      fill: #174EA6;\n",
              "    }\n",
              "\n",
              "    [theme=dark] .colab-df-convert {\n",
              "      background-color: #3B4455;\n",
              "      fill: #D2E3FC;\n",
              "    }\n",
              "\n",
              "    [theme=dark] .colab-df-convert:hover {\n",
              "      background-color: #434B5C;\n",
              "      box-shadow: 0px 1px 3px 1px rgba(0, 0, 0, 0.15);\n",
              "      filter: drop-shadow(0px 1px 2px rgba(0, 0, 0, 0.3));\n",
              "      fill: #FFFFFF;\n",
              "    }\n",
              "  </style>\n",
              "\n",
              "      <script>\n",
              "        const buttonEl =\n",
              "          document.querySelector('#df-0c05cd81-4b33-4002-8964-a598742e2ed1 button.colab-df-convert');\n",
              "        buttonEl.style.display =\n",
              "          google.colab.kernel.accessAllowed ? 'block' : 'none';\n",
              "\n",
              "        async function convertToInteractive(key) {\n",
              "          const element = document.querySelector('#df-0c05cd81-4b33-4002-8964-a598742e2ed1');\n",
              "          const dataTable =\n",
              "            await google.colab.kernel.invokeFunction('convertToInteractive',\n",
              "                                                     [key], {});\n",
              "          if (!dataTable) return;\n",
              "\n",
              "          const docLinkHtml = 'Like what you see? Visit the ' +\n",
              "            '<a target=\"_blank\" href=https://colab.research.google.com/notebooks/data_table.ipynb>data table notebook</a>'\n",
              "            + ' to learn more about interactive tables.';\n",
              "          element.innerHTML = '';\n",
              "          dataTable['output_type'] = 'display_data';\n",
              "          await google.colab.output.renderOutput(dataTable, element);\n",
              "          const docLink = document.createElement('div');\n",
              "          docLink.innerHTML = docLinkHtml;\n",
              "          element.appendChild(docLink);\n",
              "        }\n",
              "      </script>\n",
              "    </div>\n",
              "  </div>\n",
              "  "
            ]
          },
          "metadata": {},
          "execution_count": 68
        }
      ]
    },
    {
      "cell_type": "code",
      "source": [
        "# create a new feature:  speed = distance/time\n",
        "# convert time to hours so that our speed is in KM/Hr\n",
        "df['speed'] = df['Distance (KM)'] / (df['Time from Pickup to Arrival'] / 3600)"
      ],
      "metadata": {
        "id": "uEgFufbl44Hv"
      },
      "execution_count": null,
      "outputs": []
    },
    {
      "cell_type": "code",
      "source": [
        "df.sample(3)"
      ],
      "metadata": {
        "colab": {
          "base_uri": "https://localhost:8080/",
          "height": 294
        },
        "id": "Iygcr6QE5W3a",
        "outputId": "88a75c09-72cc-45fc-8a73-a0b85739864f"
      },
      "execution_count": null,
      "outputs": [
        {
          "output_type": "execute_result",
          "data": {
            "text/plain": [
              "       Platform Type  Personal or Business  Placement - Day of Month  \\\n",
              "9227               3                     0                         6   \n",
              "14457              3                     0                        23   \n",
              "18200              3                     0                        21   \n",
              "\n",
              "       Placement - Weekday (Mo = 1) Placement - Time  \\\n",
              "9227                              1           123705   \n",
              "14457                             6           105237   \n",
              "18200                             3           131653   \n",
              "\n",
              "       Confirmation - Day of Month  Confirmation - Weekday (Mo = 1)  \\\n",
              "9227                             6                                1   \n",
              "14457                           23                                6   \n",
              "18200                           21                                3   \n",
              "\n",
              "      Confirmation - Time  Arrival at Pickup - Day of Month  \\\n",
              "9227               123817                                 6   \n",
              "14457              105413                                23   \n",
              "18200              151603                                21   \n",
              "\n",
              "       Arrival at Pickup - Weekday (Mo = 1) Arrival at Pickup - Time  \\\n",
              "9227                                      1                   125126   \n",
              "14457                                     6                   110452   \n",
              "18200                                     3                   152534   \n",
              "\n",
              "       Pickup - Day of Month  Pickup - Weekday (Mo = 1) Pickup - Time  \\\n",
              "9227                       6                          1        130203   \n",
              "14457                     23                          6        111044   \n",
              "18200                     21                          3        153814   \n",
              "\n",
              "       Arrival at Destination - Day of Month  \\\n",
              "9227                                       6   \n",
              "14457                                     23   \n",
              "18200                                     21   \n",
              "\n",
              "       Arrival at Destination - Weekday (Mo = 1)  \\\n",
              "9227                                           1   \n",
              "14457                                          6   \n",
              "18200                                          3   \n",
              "\n",
              "      Arrival at Destination - Time  Distance (KM)  Temperature  Pickup Lat  \\\n",
              "9227                         132356              8    20.400000   -1.255189   \n",
              "14457                        113436             11    23.258889   -1.272828   \n",
              "18200                        154632              5    23.200000   -1.295034   \n",
              "\n",
              "       Pickup Long  Destination Lat  Destination Long  \\\n",
              "9227     36.782203        -1.284620         36.795832   \n",
              "14457    36.816608        -1.331619         36.847976   \n",
              "18200    36.782050        -1.298465         36.817189   \n",
              "\n",
              "       Time from Pickup to Arrival      speed  \n",
              "9227                          1313  21.934501  \n",
              "14457                         1432  27.653631  \n",
              "18200                          498  36.144578  "
            ],
            "text/html": [
              "\n",
              "  <div id=\"df-5585a2e9-8115-4f81-ad51-8b06b5047aa7\">\n",
              "    <div class=\"colab-df-container\">\n",
              "      <div>\n",
              "<style scoped>\n",
              "    .dataframe tbody tr th:only-of-type {\n",
              "        vertical-align: middle;\n",
              "    }\n",
              "\n",
              "    .dataframe tbody tr th {\n",
              "        vertical-align: top;\n",
              "    }\n",
              "\n",
              "    .dataframe thead th {\n",
              "        text-align: right;\n",
              "    }\n",
              "</style>\n",
              "<table border=\"1\" class=\"dataframe\">\n",
              "  <thead>\n",
              "    <tr style=\"text-align: right;\">\n",
              "      <th></th>\n",
              "      <th>Platform Type</th>\n",
              "      <th>Personal or Business</th>\n",
              "      <th>Placement - Day of Month</th>\n",
              "      <th>Placement - Weekday (Mo = 1)</th>\n",
              "      <th>Placement - Time</th>\n",
              "      <th>Confirmation - Day of Month</th>\n",
              "      <th>Confirmation - Weekday (Mo = 1)</th>\n",
              "      <th>Confirmation - Time</th>\n",
              "      <th>Arrival at Pickup - Day of Month</th>\n",
              "      <th>Arrival at Pickup - Weekday (Mo = 1)</th>\n",
              "      <th>Arrival at Pickup - Time</th>\n",
              "      <th>Pickup - Day of Month</th>\n",
              "      <th>Pickup - Weekday (Mo = 1)</th>\n",
              "      <th>Pickup - Time</th>\n",
              "      <th>Arrival at Destination - Day of Month</th>\n",
              "      <th>Arrival at Destination - Weekday (Mo = 1)</th>\n",
              "      <th>Arrival at Destination - Time</th>\n",
              "      <th>Distance (KM)</th>\n",
              "      <th>Temperature</th>\n",
              "      <th>Pickup Lat</th>\n",
              "      <th>Pickup Long</th>\n",
              "      <th>Destination Lat</th>\n",
              "      <th>Destination Long</th>\n",
              "      <th>Time from Pickup to Arrival</th>\n",
              "      <th>speed</th>\n",
              "    </tr>\n",
              "  </thead>\n",
              "  <tbody>\n",
              "    <tr>\n",
              "      <th>9227</th>\n",
              "      <td>3</td>\n",
              "      <td>0</td>\n",
              "      <td>6</td>\n",
              "      <td>1</td>\n",
              "      <td>123705</td>\n",
              "      <td>6</td>\n",
              "      <td>1</td>\n",
              "      <td>123817</td>\n",
              "      <td>6</td>\n",
              "      <td>1</td>\n",
              "      <td>125126</td>\n",
              "      <td>6</td>\n",
              "      <td>1</td>\n",
              "      <td>130203</td>\n",
              "      <td>6</td>\n",
              "      <td>1</td>\n",
              "      <td>132356</td>\n",
              "      <td>8</td>\n",
              "      <td>20.400000</td>\n",
              "      <td>-1.255189</td>\n",
              "      <td>36.782203</td>\n",
              "      <td>-1.284620</td>\n",
              "      <td>36.795832</td>\n",
              "      <td>1313</td>\n",
              "      <td>21.934501</td>\n",
              "    </tr>\n",
              "    <tr>\n",
              "      <th>14457</th>\n",
              "      <td>3</td>\n",
              "      <td>0</td>\n",
              "      <td>23</td>\n",
              "      <td>6</td>\n",
              "      <td>105237</td>\n",
              "      <td>23</td>\n",
              "      <td>6</td>\n",
              "      <td>105413</td>\n",
              "      <td>23</td>\n",
              "      <td>6</td>\n",
              "      <td>110452</td>\n",
              "      <td>23</td>\n",
              "      <td>6</td>\n",
              "      <td>111044</td>\n",
              "      <td>23</td>\n",
              "      <td>6</td>\n",
              "      <td>113436</td>\n",
              "      <td>11</td>\n",
              "      <td>23.258889</td>\n",
              "      <td>-1.272828</td>\n",
              "      <td>36.816608</td>\n",
              "      <td>-1.331619</td>\n",
              "      <td>36.847976</td>\n",
              "      <td>1432</td>\n",
              "      <td>27.653631</td>\n",
              "    </tr>\n",
              "    <tr>\n",
              "      <th>18200</th>\n",
              "      <td>3</td>\n",
              "      <td>0</td>\n",
              "      <td>21</td>\n",
              "      <td>3</td>\n",
              "      <td>131653</td>\n",
              "      <td>21</td>\n",
              "      <td>3</td>\n",
              "      <td>151603</td>\n",
              "      <td>21</td>\n",
              "      <td>3</td>\n",
              "      <td>152534</td>\n",
              "      <td>21</td>\n",
              "      <td>3</td>\n",
              "      <td>153814</td>\n",
              "      <td>21</td>\n",
              "      <td>3</td>\n",
              "      <td>154632</td>\n",
              "      <td>5</td>\n",
              "      <td>23.200000</td>\n",
              "      <td>-1.295034</td>\n",
              "      <td>36.782050</td>\n",
              "      <td>-1.298465</td>\n",
              "      <td>36.817189</td>\n",
              "      <td>498</td>\n",
              "      <td>36.144578</td>\n",
              "    </tr>\n",
              "  </tbody>\n",
              "</table>\n",
              "</div>\n",
              "      <button class=\"colab-df-convert\" onclick=\"convertToInteractive('df-5585a2e9-8115-4f81-ad51-8b06b5047aa7')\"\n",
              "              title=\"Convert this dataframe to an interactive table.\"\n",
              "              style=\"display:none;\">\n",
              "        \n",
              "  <svg xmlns=\"http://www.w3.org/2000/svg\" height=\"24px\"viewBox=\"0 0 24 24\"\n",
              "       width=\"24px\">\n",
              "    <path d=\"M0 0h24v24H0V0z\" fill=\"none\"/>\n",
              "    <path d=\"M18.56 5.44l.94 2.06.94-2.06 2.06-.94-2.06-.94-.94-2.06-.94 2.06-2.06.94zm-11 1L8.5 8.5l.94-2.06 2.06-.94-2.06-.94L8.5 2.5l-.94 2.06-2.06.94zm10 10l.94 2.06.94-2.06 2.06-.94-2.06-.94-.94-2.06-.94 2.06-2.06.94z\"/><path d=\"M17.41 7.96l-1.37-1.37c-.4-.4-.92-.59-1.43-.59-.52 0-1.04.2-1.43.59L10.3 9.45l-7.72 7.72c-.78.78-.78 2.05 0 2.83L4 21.41c.39.39.9.59 1.41.59.51 0 1.02-.2 1.41-.59l7.78-7.78 2.81-2.81c.8-.78.8-2.07 0-2.86zM5.41 20L4 18.59l7.72-7.72 1.47 1.35L5.41 20z\"/>\n",
              "  </svg>\n",
              "      </button>\n",
              "      \n",
              "  <style>\n",
              "    .colab-df-container {\n",
              "      display:flex;\n",
              "      flex-wrap:wrap;\n",
              "      gap: 12px;\n",
              "    }\n",
              "\n",
              "    .colab-df-convert {\n",
              "      background-color: #E8F0FE;\n",
              "      border: none;\n",
              "      border-radius: 50%;\n",
              "      cursor: pointer;\n",
              "      display: none;\n",
              "      fill: #1967D2;\n",
              "      height: 32px;\n",
              "      padding: 0 0 0 0;\n",
              "      width: 32px;\n",
              "    }\n",
              "\n",
              "    .colab-df-convert:hover {\n",
              "      background-color: #E2EBFA;\n",
              "      box-shadow: 0px 1px 2px rgba(60, 64, 67, 0.3), 0px 1px 3px 1px rgba(60, 64, 67, 0.15);\n",
              "      fill: #174EA6;\n",
              "    }\n",
              "\n",
              "    [theme=dark] .colab-df-convert {\n",
              "      background-color: #3B4455;\n",
              "      fill: #D2E3FC;\n",
              "    }\n",
              "\n",
              "    [theme=dark] .colab-df-convert:hover {\n",
              "      background-color: #434B5C;\n",
              "      box-shadow: 0px 1px 3px 1px rgba(0, 0, 0, 0.15);\n",
              "      filter: drop-shadow(0px 1px 2px rgba(0, 0, 0, 0.3));\n",
              "      fill: #FFFFFF;\n",
              "    }\n",
              "  </style>\n",
              "\n",
              "      <script>\n",
              "        const buttonEl =\n",
              "          document.querySelector('#df-5585a2e9-8115-4f81-ad51-8b06b5047aa7 button.colab-df-convert');\n",
              "        buttonEl.style.display =\n",
              "          google.colab.kernel.accessAllowed ? 'block' : 'none';\n",
              "\n",
              "        async function convertToInteractive(key) {\n",
              "          const element = document.querySelector('#df-5585a2e9-8115-4f81-ad51-8b06b5047aa7');\n",
              "          const dataTable =\n",
              "            await google.colab.kernel.invokeFunction('convertToInteractive',\n",
              "                                                     [key], {});\n",
              "          if (!dataTable) return;\n",
              "\n",
              "          const docLinkHtml = 'Like what you see? Visit the ' +\n",
              "            '<a target=\"_blank\" href=https://colab.research.google.com/notebooks/data_table.ipynb>data table notebook</a>'\n",
              "            + ' to learn more about interactive tables.';\n",
              "          element.innerHTML = '';\n",
              "          dataTable['output_type'] = 'display_data';\n",
              "          await google.colab.output.renderOutput(dataTable, element);\n",
              "          const docLink = document.createElement('div');\n",
              "          docLink.innerHTML = docLinkHtml;\n",
              "          element.appendChild(docLink);\n",
              "        }\n",
              "      </script>\n",
              "    </div>\n",
              "  </div>\n",
              "  "
            ]
          },
          "metadata": {},
          "execution_count": 53
        }
      ]
    },
    {
      "cell_type": "markdown",
      "source": [
        "Without Normalisation"
      ],
      "metadata": {
        "id": "Tqb0J_TVDYWl"
      }
    },
    {
      "cell_type": "code",
      "source": [
        "#split data\n",
        "features = df.drop(['Time from Pickup to Arrival'], axis=1)\n",
        "target = df['Time from Pickup to Arrival']\n",
        "\n",
        "features_train, features_test, target_train, target_test = train_test_split(features, target, test_size=.2, random_state=0)"
      ],
      "metadata": {
        "id": "JDI-2y825xSC"
      },
      "execution_count": null,
      "outputs": []
    },
    {
      "cell_type": "code",
      "source": [
        "new_base_regressor = RandomForestRegressor(n_estimators = 10, random_state = 12345)"
      ],
      "metadata": {
        "id": "qmJPT7Ba6Hw4"
      },
      "execution_count": null,
      "outputs": []
    },
    {
      "cell_type": "code",
      "source": [
        "new_base_regressor.fit(features_train, target_train)"
      ],
      "metadata": {
        "colab": {
          "base_uri": "https://localhost:8080/"
        },
        "id": "juNMkcX66NJS",
        "outputId": "7a891062-de66-418f-8db8-b3fdf1ab2dc3"
      },
      "execution_count": null,
      "outputs": [
        {
          "output_type": "execute_result",
          "data": {
            "text/plain": [
              "RandomForestRegressor(n_estimators=10, random_state=12345)"
            ]
          },
          "metadata": {},
          "execution_count": 56
        }
      ]
    },
    {
      "cell_type": "code",
      "source": [
        "new_predictions = new_base_regressor.predict(features_test)"
      ],
      "metadata": {
        "id": "BGxDimhE6TOD"
      },
      "execution_count": null,
      "outputs": []
    },
    {
      "cell_type": "code",
      "source": [
        "print('RMSE:', np.sqrt(mean_squared_error(target_test, new_predictions)))"
      ],
      "metadata": {
        "colab": {
          "base_uri": "https://localhost:8080/"
        },
        "id": "4Y9OIBYr6LJ9",
        "outputId": "aed72eb6-517d-488d-a62a-75905c0703bf"
      },
      "execution_count": null,
      "outputs": [
        {
          "output_type": "stream",
          "name": "stdout",
          "text": [
            "RMSE: 63.56973317692046\n"
          ]
        }
      ]
    },
    {
      "cell_type": "markdown",
      "source": [
        "With Normalisation"
      ],
      "metadata": {
        "id": "GQDxDuFVDdcj"
      }
    },
    {
      "cell_type": "code",
      "source": [
        "norm = MinMaxScaler().fit(features_train) \n",
        "features_train_normed = norm.transform(features_train) \n",
        "features_test_normed = norm.transform(features_test)"
      ],
      "metadata": {
        "id": "TBkuEN7-52Vc"
      },
      "execution_count": null,
      "outputs": []
    },
    {
      "cell_type": "code",
      "source": [
        "new_base_regressor = RandomForestRegressor(n_estimators = 10, random_state = 12345)"
      ],
      "metadata": {
        "id": "hGGNor_O6uyp"
      },
      "execution_count": null,
      "outputs": []
    },
    {
      "cell_type": "code",
      "source": [
        "new_base_regressor.fit(features_train_normed, target_train)"
      ],
      "metadata": {
        "colab": {
          "base_uri": "https://localhost:8080/"
        },
        "id": "hEycPyup6wl-",
        "outputId": "6ff8d34e-8e33-4f2c-b6b1-d261364317bb"
      },
      "execution_count": null,
      "outputs": [
        {
          "output_type": "execute_result",
          "data": {
            "text/plain": [
              "RandomForestRegressor(n_estimators=10, random_state=12345)"
            ]
          },
          "metadata": {},
          "execution_count": 61
        }
      ]
    },
    {
      "cell_type": "code",
      "source": [
        "new_predictions = new_base_regressor.predict(features_test_normed)"
      ],
      "metadata": {
        "id": "cBm-9Rvw6zh8"
      },
      "execution_count": null,
      "outputs": []
    },
    {
      "cell_type": "code",
      "source": [
        "print('RMSE:', np.sqrt(mean_squared_error(target_test, new_predictions)))"
      ],
      "metadata": {
        "colab": {
          "base_uri": "https://localhost:8080/"
        },
        "id": "1duRO9xP62do",
        "outputId": "a5f49263-353f-4787-9ab3-9cc76f654035"
      },
      "execution_count": null,
      "outputs": [
        {
          "output_type": "stream",
          "name": "stdout",
          "text": [
            "RMSE: 62.772266782474404\n"
          ]
        }
      ]
    },
    {
      "cell_type": "markdown",
      "source": [
        "With Step Backward Selection"
      ],
      "metadata": {
        "id": "vO-ofvE1DgvS"
      }
    },
    {
      "cell_type": "code",
      "source": [
        "# Modelling, we'll use the normalised data\n",
        "\n",
        "new_sb_regressor = RandomForestRegressor(n_estimators = 10, random_state = 12345)\n",
        "\n",
        "# We pass the regressor the estimator to the SequentialFeatureSelector function. \n",
        "# k_features specifies the number of features to select. \n",
        "# forward parameter, if set to True, performs step forward feature selection. \n",
        "# verbose parameter is used for logging the progress of the feature selector\n",
        "# scoring parameter defines the performance evaluation criteria \n",
        "# cv refers to cross-validation folds.\n",
        "\n",
        "new_sb_feature_selector = SequentialFeatureSelector(new_sb_regressor,\n",
        "           k_features=20,\n",
        "           forward=False,\n",
        "           verbose=2,\n",
        "           scoring='r2',\n",
        "           cv=4)\n",
        " \n",
        "# Perform step backward feature selection\n",
        "new_sb_feature_selector = new_sb_feature_selector.fit(features_train_normed, target_train)"
      ],
      "metadata": {
        "colab": {
          "base_uri": "https://localhost:8080/"
        },
        "id": "XGbED3867JH1",
        "outputId": "9a2b2ac8-a5c3-40d8-bd1e-ed9f5c550496"
      },
      "execution_count": null,
      "outputs": [
        {
          "output_type": "stream",
          "name": "stderr",
          "text": [
            "[Parallel(n_jobs=1)]: Using backend SequentialBackend with 1 concurrent workers.\n",
            "[Parallel(n_jobs=1)]: Done   1 out of   1 | elapsed:    7.1s remaining:    0.0s\n",
            "[Parallel(n_jobs=1)]: Done  24 out of  24 | elapsed:  2.4min finished\n",
            "\n",
            "[2022-08-02 13:04:06] Features: 23/20 -- score: 0.9944965343757916[Parallel(n_jobs=1)]: Using backend SequentialBackend with 1 concurrent workers.\n",
            "[Parallel(n_jobs=1)]: Done   1 out of   1 | elapsed:    6.7s remaining:    0.0s\n",
            "[Parallel(n_jobs=1)]: Done  23 out of  23 | elapsed:  2.1min finished\n",
            "\n",
            "[2022-08-02 13:06:14] Features: 22/20 -- score: 0.9948821852363113[Parallel(n_jobs=1)]: Using backend SequentialBackend with 1 concurrent workers.\n",
            "[Parallel(n_jobs=1)]: Done   1 out of   1 | elapsed:    6.3s remaining:    0.0s\n",
            "[Parallel(n_jobs=1)]: Done  22 out of  22 | elapsed:  1.9min finished\n",
            "\n",
            "[2022-08-02 13:08:09] Features: 21/20 -- score: 0.9950208645462182[Parallel(n_jobs=1)]: Using backend SequentialBackend with 1 concurrent workers.\n",
            "[Parallel(n_jobs=1)]: Done   1 out of   1 | elapsed:    5.9s remaining:    0.0s\n",
            "[Parallel(n_jobs=1)]: Done  21 out of  21 | elapsed:  1.7min finished\n",
            "\n",
            "[2022-08-02 13:09:52] Features: 20/20 -- score: 0.9954150166660165"
          ]
        }
      ]
    },
    {
      "cell_type": "code",
      "source": [
        "# the selected features\n",
        "\n",
        "new_sb_feat_cols = list(new_sb_feature_selector.k_feature_idx_)\n",
        "print(new_sb_feat_cols)"
      ],
      "metadata": {
        "colab": {
          "base_uri": "https://localhost:8080/"
        },
        "id": "YMXHHCMY7yId",
        "outputId": "42cfccff-b44d-4701-8051-4d1909b9fe2a"
      },
      "execution_count": null,
      "outputs": [
        {
          "output_type": "stream",
          "name": "stdout",
          "text": [
            "[0, 1, 2, 3, 4, 5, 6, 7, 8, 9, 10, 11, 12, 13, 14, 15, 16, 17, 18, 23]\n"
          ]
        }
      ]
    },
    {
      "cell_type": "code",
      "source": [
        "# modelling with step backward feature selection\n",
        "new_regressor_with_sbfs = RandomForestRegressor(n_estimators = 10, random_state = 12345)\n",
        "new_regressor_with_sbfs.fit(features_train_normed[:, new_sb_feat_cols], target_train)\n",
        "\n",
        "# Making Predictions and determining the accuracies\n",
        "new_sbfs_predictions = new_regressor_with_sbfs.predict(features_test_normed[:, new_sb_feat_cols])\n",
        "print('RMSE With sbfs:', np.sqrt(mean_squared_error(target_test, new_sbfs_predictions)))"
      ],
      "metadata": {
        "colab": {
          "base_uri": "https://localhost:8080/"
        },
        "id": "4fxh3fq974MU",
        "outputId": "5bc5ce72-0168-4d98-b861-14d4a2493806"
      },
      "execution_count": null,
      "outputs": [
        {
          "output_type": "stream",
          "name": "stdout",
          "text": [
            "RMSE With sbfs: 60.40979404221297\n"
          ]
        }
      ]
    },
    {
      "cell_type": "markdown",
      "source": [
        "Observation\n",
        "> After adding the new feauture + normalization + step backward feature selection got the RMSE to drop from 548 to 60"
      ],
      "metadata": {
        "id": "uXj94gqNr4hZ"
      }
    },
    {
      "cell_type": "markdown",
      "source": [
        "## Summary of findings and Recommendations"
      ],
      "metadata": {
        "id": "FkQ70uhSvYb4"
      }
    },
    {
      "cell_type": "markdown",
      "source": [
        "> Our base model had an RMSE of 548.\n",
        "\n",
        "> Feature normalisation and standardisation improved the RMSE to 546 and 547 respectively.\n",
        "\n",
        "> Step forward feature selection improved the RMSE from 548 to 425.\n",
        "\n",
        "> Step backward feature selection improved the RMSE from 548 to 338.\n",
        "\n",
        "> Recursive feature elimination improved the RMSE slightly from 548 to 546.\n",
        "\n",
        "> Principal Component Analysis improved the RMSE from the 548 to 410.\n",
        "\n",
        "> Linear discriminant analysis had the worst RMSE of 634.\n",
        "\n",
        "> Feature construction had the best RMSE of 63. Coupled with normalisation and step backward feature selection, the RMSE improved to 60\n",
        "\n",
        "Sendy can rely on a Random Forest Regressor to predict delivery time.\n"
      ],
      "metadata": {
        "id": "yw2NSxEivctP"
      }
    },
    {
      "cell_type": "markdown",
      "source": [
        "## Challenge the Solution\n",
        "\n",
        "a) Did we have the right question? Yes\n",
        "\n",
        "b) Did we have the right data? Yes\n",
        "\n",
        "c) What can be done to improve the solution?\n",
        "- Hyperparameter tuning\n",
        "- Construct more features\n",
        "- Handle any outliers "
      ],
      "metadata": {
        "id": "4d_vzMmavaRv"
      }
    }
  ]
}